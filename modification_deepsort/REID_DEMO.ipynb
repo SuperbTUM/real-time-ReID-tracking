{
 "nbformat": 4,
 "nbformat_minor": 0,
 "metadata": {
  "colab": {
   "name": "REID_DEMO.ipynb",
   "provenance": [],
   "collapsed_sections": [],
   "authorship_tag": "ABX9TyOEFtuzKAX6iePmc7HceKQW"
  },
  "kernelspec": {
   "name": "python3",
   "display_name": "Python 3"
  },
  "language_info": {
   "name": "python"
  },
  "accelerator": "GPU"
 },
 "cells": [
  {
   "cell_type": "code",
   "execution_count": 7,
   "metadata": {
    "colab": {
     "base_uri": "https://localhost:8080/"
    },
    "id": "YHPNQ0C7YNtv",
    "executionInfo": {
     "status": "ok",
     "timestamp": 1644592997027,
     "user_tz": 300,
     "elapsed": 16667,
     "user": {
      "displayName": "胡明哲",
      "photoUrl": "https://lh3.googleusercontent.com/a/default-user=s64",
      "userId": "14614187422162607500"
     }
    },
    "outputId": "c0f36285-cbb6-4a35-f5df-45dc750f6b14",
    "pycharm": {
     "name": "#%%\n"
    }
   },
   "outputs": [
    {
     "output_type": "stream",
     "name": "stdout",
     "text": [
      "Mounted at /content/drive\n",
      "/content/drive/My Drive/Neural Network & Deep Learning\n"
     ]
    }
   ],
   "source": [
    "from google.colab import drive\n",
    "drive.mount(\"/content/drive\")\n",
    "%cd /content/drive/My Drive/Neural Network & Deep Learning/"
   ]
  },
  {
   "cell_type": "code",
   "source": [
    "import torch\n",
    "import torch.nn.functional as F\n",
    "import glob\n",
    "import random\n",
    "from torchsummary import summary\n",
    "import torch.nn as nn\n",
    "from torchvision import models, transforms\n",
    "from torch.utils.data import Dataset, DataLoader\n",
    "from tqdm import tqdm\n",
    "import matplotlib.pyplot as plt\n",
    "from prefetch_generator import BackgroundGenerator\n",
    "from torch.autograd import Variable\n",
    "import torch.backends.cudnn as cudnn\n",
    "from collections import defaultdict\n",
    "from math import sqrt\n",
    "from functools import reduce\n",
    "import numpy as np\n",
    "import math\n",
    "from PIL import Image\n",
    "from torchsummary import summary\n",
    "cudnn.enabled = True\n",
    "cudnn.benchmark = True"
   ],
   "metadata": {
    "id": "JBYyFpqWd1Gq",
    "executionInfo": {
     "status": "ok",
     "timestamp": 1644592905829,
     "user_tz": 300,
     "elapsed": 134,
     "user": {
      "displayName": "胡明哲",
      "photoUrl": "https://lh3.googleusercontent.com/a/default-user=s64",
      "userId": "14614187422162607500"
     }
    },
    "pycharm": {
     "name": "#%%\n"
    }
   },
   "execution_count": 3,
   "outputs": []
  },
  {
   "cell_type": "markdown",
   "source": [
    "Have a look at the original resnet18 first"
   ],
   "metadata": {
    "id": "GZTRtz_Tfm-8",
    "pycharm": {
     "name": "#%% md\n"
    }
   }
  },
  {
   "cell_type": "code",
   "source": [
    "class IBN(nn.Module):\n",
    "    def __init__(self, in_channels, ratio=0.5):\n",
    "        \"\"\"\n",
    "        Some do instance norm, some do batch norm\n",
    "        \"\"\"\n",
    "        super().__init__()\n",
    "        self.in_channels = in_channels\n",
    "        self.ratio = ratio\n",
    "        self.half = int(self.in_channels * ratio)\n",
    "        self.IN = nn.InstanceNorm2d(self.half, affine=True)\n",
    "        self.BN = nn.BatchNorm2d(self.in_channels - self.half)\n",
    "    \n",
    "    def forward(self, x):\n",
    "        split = torch.split(x, self.half, 1)\n",
    "        out1 = self.IN(split[0].contiguous())\n",
    "        out2 = self.BN(split[1].contiguous())\n",
    "        out = torch.cat((out1, out2), 1)\n",
    "        return out\n",
    "\n",
    "res18 = models.resnet18().cuda()\n",
    "res18.layer1[0].bn1 = IBN(64)\n",
    "res18.layer1\n",
    "# res18"
   ],
   "metadata": {
    "colab": {
     "base_uri": "https://localhost:8080/"
    },
    "id": "svgHjxJofqaJ",
    "executionInfo": {
     "status": "ok",
     "timestamp": 1644592917157,
     "user_tz": 300,
     "elapsed": 9678,
     "user": {
      "displayName": "胡明哲",
      "photoUrl": "https://lh3.googleusercontent.com/a/default-user=s64",
      "userId": "14614187422162607500"
     }
    },
    "outputId": "49714ed4-97df-4edb-c7d7-ed7064fd5ddf",
    "pycharm": {
     "name": "#%%\n"
    }
   },
   "execution_count": 4,
   "outputs": [
    {
     "output_type": "execute_result",
     "data": {
      "text/plain": [
       "Sequential(\n",
       "  (0): BasicBlock(\n",
       "    (conv1): Conv2d(64, 64, kernel_size=(3, 3), stride=(1, 1), padding=(1, 1), bias=False)\n",
       "    (bn1): IBN(\n",
       "      (IN): InstanceNorm2d(32, eps=1e-05, momentum=0.1, affine=True, track_running_stats=False)\n",
       "      (BN): BatchNorm2d(32, eps=1e-05, momentum=0.1, affine=True, track_running_stats=True)\n",
       "    )\n",
       "    (relu): ReLU(inplace=True)\n",
       "    (conv2): Conv2d(64, 64, kernel_size=(3, 3), stride=(1, 1), padding=(1, 1), bias=False)\n",
       "    (bn2): BatchNorm2d(64, eps=1e-05, momentum=0.1, affine=True, track_running_stats=True)\n",
       "  )\n",
       "  (1): BasicBlock(\n",
       "    (conv1): Conv2d(64, 64, kernel_size=(3, 3), stride=(1, 1), padding=(1, 1), bias=False)\n",
       "    (bn1): BatchNorm2d(64, eps=1e-05, momentum=0.1, affine=True, track_running_stats=True)\n",
       "    (relu): ReLU(inplace=True)\n",
       "    (conv2): Conv2d(64, 64, kernel_size=(3, 3), stride=(1, 1), padding=(1, 1), bias=False)\n",
       "    (bn2): BatchNorm2d(64, eps=1e-05, momentum=0.1, affine=True, track_running_stats=True)\n",
       "  )\n",
       ")"
      ]
     },
     "metadata": {},
     "execution_count": 4
    }
   ]
  },
  {
   "cell_type": "code",
   "source": [
    "class DataLoaderX(DataLoader):\n",
    "    def __iter__(self):\n",
    "        return BackgroundGenerator(super().__iter__())"
   ],
   "metadata": {
    "id": "pdXgZkalEtYT",
    "executionInfo": {
     "status": "ok",
     "timestamp": 1644593423861,
     "user_tz": 300,
     "elapsed": 173,
     "user": {
      "displayName": "胡明哲",
      "photoUrl": "https://lh3.googleusercontent.com/a/default-user=s64",
      "userId": "14614187422162607500"
     }
    },
    "pycharm": {
     "name": "#%%\n"
    }
   },
   "execution_count": 18,
   "outputs": []
  },
  {
   "cell_type": "markdown",
   "source": [
    "Not know if the last layer for the embedding needs normalization"
   ],
   "metadata": {
    "id": "guS_8TkH5gdT",
    "pycharm": {
     "name": "#%% md\n"
    }
   }
  },
  {
   "cell_type": "code",
   "source": [
    "class SEBlock(nn.Module):\n",
    "    def __init__(self, c_in):\n",
    "        super().__init__()\n",
    "        self.globalavgpooling = nn.AdaptiveAvgPool2d(1)\n",
    "        self.fc1 = nn.Linear(c_in, max(1, c_in // 16))\n",
    "        self.relu = nn.ReLU(inplace=True)\n",
    "        self.fc2 = nn.Linear(max(1, c_in // 16), c_in)\n",
    "        self.sigmoid = nn.Sigmoid()\n",
    "        self.c_in = c_in\n",
    "    \n",
    "    def forward(self, x):\n",
    "        assert self.c_in == x.size(1)\n",
    "        x = self.globalavgpooling(x)\n",
    "        x = x.squeeze()\n",
    "        x = self.fc1(x)\n",
    "        x = self.relu(x)\n",
    "        x = self.fc2(x)\n",
    "        x = x.unsqueeze(-1).unsqueeze(-1)\n",
    "        x = self.sigmoid(x)\n",
    "        return x\n",
    "\n",
    "\n",
    "class SEDense18(nn.Module):\n",
    "    def __init__(self, num_class=751, needs_norm=True, is_reid=False):\n",
    "        super().__init__()\n",
    "        model = models.resnet18(pretrained=True)\n",
    "        self.conv0 = model.conv1\n",
    "        self.bn0 = model.bn1\n",
    "        self.relu0 = model.relu\n",
    "        self.pooling0 = model.maxpool\n",
    "        self.basicBlock11 = model.layer1[0]\n",
    "        self.seblock1 = SEBlock(64)\n",
    "\n",
    "        self.basicBlock12 = model.layer1[1]\n",
    "        self.seblock2 = SEBlock(64)\n",
    "\n",
    "        self.basicBlock21 = model.layer2[0]\n",
    "        self.seblock3 = SEBlock(128)\n",
    "        self.ancillaryconv3 = nn.Conv2d(64, 128, 1, 2, 0)\n",
    "        self.optionalNorm2dconv3 = nn.BatchNorm2d(128)\n",
    "\n",
    "        self.basicBlock22 = model.layer2[1]\n",
    "        self.seblock4 = SEBlock(128)\n",
    "\n",
    "        self.basicBlock31 = model.layer3[0]\n",
    "        self.seblock5 = SEBlock(256)\n",
    "        self.ancillaryconv5 = nn.Conv2d(128, 256, 1, 2, 0)\n",
    "        self.optionalNorm2dconv5 = nn.BatchNorm2d(256)\n",
    "\n",
    "        self.basicBlock32 = model.layer3[1]\n",
    "        self.seblock6 = SEBlock(256)\n",
    "\n",
    "        self.basicBlock41 = model.layer4[0]\n",
    "        # last stride = 1\n",
    "        self.basicBlock41.conv1 = nn.Conv2d(256, 512, kernel_size=(3, 3), stride=(1, 1), padding=(1, 1), bias=False, device=\"cuda:0\")\n",
    "        self.basicBlock41.downsample[0] = nn.Conv2d(256, 512, kernel_size=(1,1), stride=(1,1), bias=False, device=\"cuda:0\")\n",
    "        self.seblock7 = SEBlock(512)\n",
    "        self.ancillaryconv7 = nn.Conv2d(256, 512, 1, 1, 0)\n",
    "        self.optionalNorm2dconv7 = nn.BatchNorm2d(512)\n",
    "\n",
    "        self.basicBlock42 = model.layer4[1]\n",
    "        self.seblock8 = SEBlock(512)\n",
    "\n",
    "        self.avgpooling = model.avgpool\n",
    "        # self.fc = nn.Linear(512, num_class)\n",
    "        self.classifier = nn.Sequential(\n",
    "            nn.Linear(512, 256),\n",
    "            nn.BatchNorm1d(256),\n",
    "            nn.ReLU(inplace=True),\n",
    "            nn.Dropout(),\n",
    "            nn.Linear(256, num_class),\n",
    "        )\n",
    "        self.needs_norm = needs_norm\n",
    "        self.is_reid = is_reid\n",
    "    \n",
    "    def forward(self, x):\n",
    "        x = self.conv0(x)\n",
    "        x = self.bn0(x)\n",
    "        x = self.relu0(x)\n",
    "        x = self.pooling0(x)\n",
    "        branch1 = x\n",
    "        x = self.basicBlock11(x)\n",
    "        scale1 = self.seblock1(x)\n",
    "        x = scale1 * x + branch1\n",
    "\n",
    "        branch2 = x\n",
    "        x = self.basicBlock12(x)\n",
    "        scale2 = self.seblock2(x)\n",
    "        x = scale2 * x + branch2\n",
    "\n",
    "        branch3 = x\n",
    "        x = self.basicBlock21(x)\n",
    "        scale3 = self.seblock3(x)\n",
    "        if self.needs_norm:\n",
    "            x = scale3 * x + self.optionalNorm2dconv3(self.ancillaryconv3(branch3))\n",
    "        else:\n",
    "            x = scale3 * x + self.ancillaryconv3(branch3)\n",
    "\n",
    "        branch4 = x\n",
    "        x = self.basicBlock22(x)\n",
    "        scale4 = self.seblock4(x)\n",
    "        x = scale4 * x + branch4\n",
    "\n",
    "        branch5 = x\n",
    "        x = self.basicBlock31(x)\n",
    "        scale5 = self.seblock5(x)\n",
    "        if self.needs_norm:\n",
    "            x = scale5 * x + self.optionalNorm2dconv5(self.ancillaryconv5(branch5))\n",
    "        else:\n",
    "            x = scale5 * x + self.ancillaryconv5(branch5)\n",
    "\n",
    "        branch6 = x\n",
    "        x = self.basicBlock32(x)\n",
    "        scale6 = self.seblock6(x)\n",
    "        x = scale6 * x + branch6\n",
    "\n",
    "        branch7 = x\n",
    "        x = self.basicBlock41(x)\n",
    "        scale7 = self.seblock7(x)\n",
    "        if self.needs_norm:\n",
    "            x = scale7 * x + self.optionalNorm2dconv7(self.ancillaryconv7(branch7))\n",
    "        else:\n",
    "            x = scale7 * x + self.ancillaryconv7(branch7)\n",
    "\n",
    "        branch8 = x\n",
    "        x = self.basicBlock42(x)\n",
    "        scale8 = self.seblock8(x)\n",
    "        x = scale8 * x + branch8\n",
    "\n",
    "        x = self.avgpooling(x)\n",
    "        x = x.view(x.size(0), -1)\n",
    "        if self.is_reid:\n",
    "            return x\n",
    "        x = self.classifier(x)\n",
    "\n",
    "        return x\n"
   ],
   "metadata": {
    "id": "wcgXv43eYkAu",
    "executionInfo": {
     "status": "ok",
     "timestamp": 1644592920214,
     "user_tz": 300,
     "elapsed": 333,
     "user": {
      "displayName": "胡明哲",
      "photoUrl": "https://lh3.googleusercontent.com/a/default-user=s64",
      "userId": "14614187422162607500"
     }
    },
    "pycharm": {
     "name": "#%%\n"
    }
   },
   "execution_count": 5,
   "outputs": []
  },
  {
   "cell_type": "markdown",
   "source": [
    "Adding IBN module to accommodate across-domain issue"
   ],
   "metadata": {
    "id": "MssSHPVMSWuJ",
    "pycharm": {
     "name": "#%% md\n"
    }
   }
  },
  {
   "cell_type": "code",
   "source": [
    "class MyDataset(Dataset):\n",
    "    def __init__(self, image_path, pose_path, label_path, transform):\n",
    "        super().__init__()\n",
    "        self.image_path = image_path\n",
    "        self.pose_path = pose_path\n",
    "        self.label_path = label_path\n",
    "        self.transform = transform\n",
    "    \n",
    "    def __len__(self):\n",
    "        return len(self.image_path)\n",
    "    \n",
    "    def __getitem__(self, idx):\n",
    "        image1 = self.image_path[idx]\n",
    "        pose1 = self.pose_path[idx]\n",
    "        random_index = random.choice([i for i in range(len(self.image_path)) if i != idx])\n",
    "        image2 = self.image_path[random_index]\n",
    "        pose2 = self.pose_path[random_index]\n",
    "        relative_label = 0 if self.label_path[idx] == self.label_path[random_index] else 1\n",
    "        absolute_label = self.label_path[idx]\n",
    "        image1 = Image.open(image1).convert(\"RGB\")\n",
    "        image2 = Image.open(image2).convert(\"RGB\")\n",
    "        pose1 = transforms.ToTensor()(Image.open(pose1).convert(\"L\"))\n",
    "        pose2 = transforms.ToTensor()(Image.open(pose2).convert(\"L\"))\n",
    "        if self.transform:\n",
    "            image1 = self.transform(image1)\n",
    "            image2 = self.transform(image2)\n",
    "        relative_label = torch.tensor(relative_label).int()\n",
    "        absolute_label = torch.tensor(absolute_label).int()\n",
    "        return image1, image2, pose1, pose2, relative_label, absolute_label\n",
    "\n",
    "\n",
    "class CenTriDataset(Dataset):\n",
    "    def __init__(self, image_path, label_path, transform):\n",
    "        self.image_path = image_path\n",
    "        self.label_path = label_path\n",
    "        self.transform = transform\n",
    "    \n",
    "    def __len__(self):\n",
    "        return len(self.image_path)\n",
    "    \n",
    "    def __getitem__(self, idx):\n",
    "        image = self.image_path[idx]\n",
    "        label = self.label_path[idx]\n",
    "        image = Image.open(image).convert(\"RGB\")\n",
    "        if self.transform:\n",
    "            image = self.transform(image)\n",
    "        return image, torch.tensor(label).int()\n",
    "\n",
    "\n",
    "def relabel(label_set):\n",
    "    label = 0\n",
    "    latest_label = label_set[0]\n",
    "    new_label_set = list()\n",
    "    for cur_label in label_set:\n",
    "        if cur_label != latest_label:\n",
    "            label += 1\n",
    "            latest_label = cur_label\n",
    "        new_label_set.append(label)\n",
    "    return new_label_set"
   ],
   "metadata": {
    "id": "O8nJr2Q1dwhh",
    "executionInfo": {
     "status": "ok",
     "timestamp": 1644593016700,
     "user_tz": 300,
     "elapsed": 248,
     "user": {
      "displayName": "胡明哲",
      "photoUrl": "https://lh3.googleusercontent.com/a/default-user=s64",
      "userId": "14614187422162607500"
     }
    },
    "pycharm": {
     "name": "#%%\n"
    }
   },
   "execution_count": 8,
   "outputs": []
  },
  {
   "cell_type": "code",
   "source": [
    "class contrastiveLoss(nn.Module):\n",
    "    \"\"\"\n",
    "    Contrastive loss function.\n",
    "    Based on: http://yann.lecun.com/exdb/publis/pdf/hadsell-chopra-lecun-06.pdf\n",
    "    \"\"\"\n",
    "\n",
    "    def __init__(self, margin=20.0):\n",
    "        super(contrastiveLoss, self).__init__()\n",
    "        self.margin = margin\n",
    "\n",
    "    def forward(self, output1, output2, label):\n",
    "        euclidean_distance = F.pairwise_distance(output1, output2, keepdim = True)\n",
    "        loss_contrastive = torch.mean((1-label) * torch.pow(euclidean_distance, 2) +\n",
    "                                      (label) * torch.pow(torch.clamp(self.margin - euclidean_distance, min=0.0), 2))\n",
    "        return loss_contrastive\n",
    "\n",
    "\n",
    "class LabelSmoothing(nn.Module):\n",
    "    \"\"\" NLL loss with label smoothing. \"\"\"\n",
    "\n",
    "    def __init__(self, smoothing=0.1):\n",
    "        \"\"\" Constructor for the LabelSmoothing module.\n",
    "        :param smoothing: label smoothing factor \"\"\"\n",
    "        super(LabelSmoothing, self).__init__()\n",
    "        self.confidence = 1.0 - smoothing\n",
    "        self.smoothing = smoothing\n",
    "\n",
    "    def forward(self, x, target):\n",
    "        logprobs = torch.nn.functional.log_softmax(x, dim=-1)\n",
    "        target = target.long()\n",
    "        nll_loss = -logprobs.gather(dim=-1, index=target.unsqueeze(1))\n",
    "        nll_loss = nll_loss.squeeze(1)\n",
    "        smooth_loss = -logprobs.mean(dim=-1)\n",
    "        loss = self.confidence * nll_loss + self.smoothing * smooth_loss\n",
    "        return loss.mean()\n",
    "\n"
   ],
   "metadata": {
    "id": "D4tuCWA77Kbb",
    "executionInfo": {
     "status": "ok",
     "timestamp": 1644593020294,
     "user_tz": 300,
     "elapsed": 149,
     "user": {
      "displayName": "胡明哲",
      "photoUrl": "https://lh3.googleusercontent.com/a/default-user=s64",
      "userId": "14614187422162607500"
     }
    },
    "pycharm": {
     "name": "#%%\n"
    }
   },
   "execution_count": 9,
   "outputs": []
  },
  {
   "cell_type": "markdown",
   "source": [
    "Adding center loss and triplet to train the network based on strong baseline paper."
   ],
   "metadata": {
    "id": "i-KUr3ZoRG_f",
    "pycharm": {
     "name": "#%% md\n"
    }
   }
  },
  {
   "cell_type": "code",
   "source": [
    "class CenterLoss(nn.Module):\n",
    "    \"\"\"Center loss.\n",
    "    Reference:\n",
    "    Wen et al. A Discriminative Feature Learning Approach for Deep Face Recognition. ECCV 2016.\n",
    "    Args:\n",
    "        num_classes (int): number of classes.\n",
    "        feat_dim (int): feature dimension.\n",
    "    \"\"\"\n",
    " \n",
    "    def __init__(self, num_classes=751, feat_dim=2048, use_gpu=True):\n",
    "        super(CenterLoss, self).__init__()\n",
    "        self.num_classes = num_classes\n",
    "        self.feat_dim = feat_dim\n",
    "        self.use_gpu = use_gpu\n",
    " \n",
    "        if self.use_gpu:\n",
    "            self.centers = nn.Parameter(torch.randn(self.num_classes, self.feat_dim).cuda())\n",
    "        else:\n",
    "            self.centers = nn.Parameter(torch.randn(self.num_classes, self.feat_dim))\n",
    " \n",
    "    def forward(self, x, labels):\n",
    "        \"\"\"\n",
    "        Args:\n",
    "            x: feature matrix with shape (batch_size, feat_dim).\n",
    "            labels: ground truth labels with shape (num_classes).\n",
    "        \"\"\"\n",
    "        assert x.size(0) == labels.size(0), \"features.size(0) is not equal to labels.size(0)\"\n",
    " \n",
    "        batch_size = x.size(0)\n",
    "        distmat = torch.pow(x, 2).sum(dim=1, keepdim=True).expand(batch_size, self.num_classes) + \\\n",
    "                  torch.pow(self.centers, 2).sum(dim=1, keepdim=True).expand(self.num_classes, batch_size).t()\n",
    "        distmat.addmm_(1, -2, x, self.centers.t())\n",
    " \n",
    "        classes = torch.arange(self.num_classes).long()\n",
    "        if self.use_gpu: classes = classes.cuda()\n",
    "        labels = labels.unsqueeze(1).expand(batch_size, self.num_classes)\n",
    "        mask = labels.eq(classes.expand(batch_size, self.num_classes))\n",
    " \n",
    "        dist = []\n",
    "        for i in range(batch_size):\n",
    "            value = distmat[i][mask[i]]\n",
    "            value = value.clamp(min=1e-12, max=1e+12)  # for numerical stability\n",
    "            dist.append(value)\n",
    "        dist = torch.cat(dist)\n",
    "        loss = dist.mean()\n",
    "        return loss\n",
    "\n",
    "\n",
    "class TripletLoss(nn.Module):\n",
    "    \"\"\"Triplet loss with hard positive/negative mining.\n",
    "    \n",
    "    Reference:\n",
    "        Hermans et al. In Defense of the Triplet Loss for Person Re-Identification. arXiv:1703.07737.\n",
    "    \n",
    "    Imported from `<https://github.com/Cysu/open-reid/blob/master/reid/loss/triplet.py>`_.\n",
    "    \n",
    "    Args:\n",
    "        margin (float, optional): margin for triplet. Default is 0.3.\n",
    "    \"\"\"\n",
    "    \n",
    "    def __init__(self, margin=0.3):\n",
    "        super(TripletLoss, self).__init__()\n",
    "        self.margin = margin\n",
    "        self.ranking_loss = nn.MarginRankingLoss(margin=margin)\n",
    " \n",
    "    def forward(self, inputs, targets):\n",
    "        \"\"\"\n",
    "        Args:\n",
    "            inputs (torch.Tensor): feature matrix with shape (batch_size, feat_dim).\n",
    "            targets (torch.LongTensor): ground truth labels with shape (num_classes).\n",
    "        \"\"\"\n",
    "        n = inputs.size(0)\n",
    "        \n",
    "        # Compute pairwise distance, replace by the official when merged\n",
    "        dist = torch.pow(inputs, 2).sum(dim=1, keepdim=True).expand(n, n)\n",
    "        dist = dist + dist.t()\n",
    "        dist.addmm_(1, -2, inputs, inputs.t())\n",
    "        dist = dist.clamp(min=1e-12).sqrt()  # for numerical stability\n",
    "        \n",
    "        # For each anchor, find the hardest positive and negative\n",
    "        mask = targets.expand(n, n).eq(targets.expand(n, n).t())\n",
    "        dist_ap, dist_an = [], []\n",
    "        for i in range(n):\n",
    "            dist_ap.append(dist[i][mask[i]].max().unsqueeze(0))\n",
    "            dist_an.append(dist[i][mask[i] == 0].min().unsqueeze(0))\n",
    "        dist_ap = torch.cat(dist_ap)\n",
    "        dist_an = torch.cat(dist_an)\n",
    "        \n",
    "        # Compute ranking hinge loss\n",
    "        y = torch.ones_like(dist_an)\n",
    "        return self.ranking_loss(dist_an, dist_ap, y)"
   ],
   "metadata": {
    "id": "QTxROLe7RGhJ",
    "executionInfo": {
     "status": "ok",
     "timestamp": 1644593022532,
     "user_tz": 300,
     "elapsed": 137,
     "user": {
      "displayName": "胡明哲",
      "photoUrl": "https://lh3.googleusercontent.com/a/default-user=s64",
      "userId": "14614187422162607500"
     }
    },
    "pycharm": {
     "name": "#%%\n"
    }
   },
   "execution_count": 10,
   "outputs": []
  },
  {
   "cell_type": "markdown",
   "source": [
    "I find it hard to do strict contrastive training since for the same person, there may be pose issues."
   ],
   "metadata": {
    "id": "LM58WQta-KaX",
    "pycharm": {
     "name": "#%% md\n"
    }
   }
  },
  {
   "cell_type": "code",
   "source": [
    "class PoseLoss(nn.Module):\n",
    "    def __init__(self, margin=None):\n",
    "        super().__init__()\n",
    "    \n",
    "    def forward(self, pose1, pose2):\n",
    "        return torch.log(torch.clamp(torch.abs(torch.sum(pose1) - torch.sum(pose2)), 0.) + 1e-6)\n",
    "\n",
    "class HybridLoss(nn.Module):\n",
    "    def __init__(self, margin=20.0):\n",
    "        super().__init__()\n",
    "        self.contrastive = contrastiveLoss(margin)\n",
    "        self.pose = PoseLoss()\n",
    "    \n",
    "    def forward(self, feature1, feature2, label, pose1, pose2):\n",
    "        return self.contrastive(feature1, feature2, label) + 0.05 * self.pose(pose1, pose2)\n",
    "\n",
    "\n",
    "class HybridLoss2(nn.Module):\n",
    "    def __init__(self, num_classes, feat_dim=512, margin=50):\n",
    "        super().__init__()\n",
    "        self.center = CenterLoss(num_classes=num_classes, feat_dim=feat_dim)\n",
    "        self.triplet = TripletLoss(margin)\n",
    "    \n",
    "    def forward(self, features, targets):\n",
    "        \"\"\"\n",
    "        features: feature vectors\n",
    "        targets: ground truth labels\n",
    "        \"\"\"\n",
    "        return self.triplet(features, targets) + 0.0005 * self.center(features, targets)"
   ],
   "metadata": {
    "id": "v2m11AsaA0s1",
    "executionInfo": {
     "status": "ok",
     "timestamp": 1644593027836,
     "user_tz": 300,
     "elapsed": 185,
     "user": {
      "displayName": "胡明哲",
      "photoUrl": "https://lh3.googleusercontent.com/a/default-user=s64",
      "userId": "14614187422162607500"
     }
    },
    "pycharm": {
     "name": "#%%\n"
    }
   },
   "execution_count": 11,
   "outputs": []
  },
  {
   "cell_type": "markdown",
   "source": [
    "Design of a customized learning rate scheduler with warm up"
   ],
   "metadata": {
    "id": "YsNeoqMxT9G9",
    "pycharm": {
     "name": "#%% md\n"
    }
   }
  },
  {
   "cell_type": "code",
   "source": [
    "from bisect import bisect_right\n",
    "\n",
    "\n",
    "class WarmupMultiStepLR(torch.optim.lr_scheduler._LRScheduler):\n",
    "    def __init__(\n",
    "        self,\n",
    "        optimizer,\n",
    "        milestones,\n",
    "        gamma=0.1,\n",
    "        warmup_factor=1.0 / 3,\n",
    "        warmup_iters=500,\n",
    "        warmup_method=\"linear\",\n",
    "        last_epoch=-1,\n",
    "    ):\n",
    "        if not list(milestones) == sorted(milestones):\n",
    "            raise ValueError(\n",
    "                \"Milestones should be a list of\" \" increasing integers. Got {}\",\n",
    "                milestones,\n",
    "            )\n",
    "\n",
    "        if warmup_method not in (\"constant\", \"linear\"):\n",
    "            raise ValueError(\n",
    "                \"Only 'constant' or 'linear' warmup_method accepted\"\n",
    "                \"got {}\".format(warmup_method)\n",
    "            )\n",
    "        self.milestones = milestones\n",
    "        self.gamma = gamma\n",
    "        self.warmup_factor = warmup_factor\n",
    "        self.warmup_iters = warmup_iters\n",
    "        self.warmup_method = warmup_method\n",
    "        super(WarmupMultiStepLR, self).__init__(optimizer, last_epoch)\n",
    "\n",
    "    def get_lr(self):\n",
    "        warmup_factor = 1\n",
    "        if self.last_epoch < self.warmup_iters:\n",
    "            if self.warmup_method == \"constant\":\n",
    "                warmup_factor = self.warmup_factor\n",
    "            elif self.warmup_method == \"linear\":\n",
    "                alpha = self.last_epoch / self.warmup_iters\n",
    "                warmup_factor = self.warmup_factor * (1 - alpha) + alpha\n",
    "        return [\n",
    "            base_lr\n",
    "            * warmup_factor\n",
    "            * self.gamma ** bisect_right(self.milestones, self.last_epoch)\n",
    "            for base_lr in self.base_lrs\n",
    "        ]"
   ],
   "metadata": {
    "id": "xtIwUi09UCVC",
    "executionInfo": {
     "status": "ok",
     "timestamp": 1644593031552,
     "user_tz": 300,
     "elapsed": 155,
     "user": {
      "displayName": "胡明哲",
      "photoUrl": "https://lh3.googleusercontent.com/a/default-user=s64",
      "userId": "14614187422162607500"
     }
    },
    "pycharm": {
     "name": "#%%\n"
    }
   },
   "execution_count": 12,
   "outputs": []
  },
  {
   "cell_type": "code",
   "source": [
    "def training_strategy(num_classes):\n",
    "    # The followings are used for training the embedding network\n",
    "    embedding = SEDense18(num_class=num_classes, is_reid=True).cuda()\n",
    "    # loss_function_embedding = contrastiveLoss(margin=300)\n",
    "    # loss_function_embedding = HybridLoss(margin=20)\n",
    "    loss_function_embedding = HybridLoss2(num_classes)\n",
    "    optimizer_embedding = torch.optim.Adam(embedding.parameters(), lr=0.001, weight_decay=5e-4)\n",
    "    lr_scheduler_embedding = torch.optim.lr_scheduler.StepLR(optimizer_embedding, step_size=1000, gamma=0.5)\n",
    "    # lr_scheduler_embedding = WarmupMultiStepLR(optimizer_embedding, [5, 10], warmup_iters=10)\n",
    "    # lr_scheduler_embedding = torch.optim.lr_scheduler.CosineAnnealingWarmRestarts(optimizer_embedding, 10, eta_min=3.5e-5)\n",
    "    # The followings are used for training the classification network\n",
    "    classifier = embedding.classifier\n",
    "    loss_function_classifier = LabelSmoothing()\n",
    "    optimizer_classifier = torch.optim.Adam(classifier.parameters(), lr=0.005, weight_decay=5e-4)\n",
    "    lr_scheduler_classifier = torch.optim.lr_scheduler.StepLR(optimizer_classifier, step_size=2000, gamma=0.5)\n",
    "    return embedding, loss_function_embedding, optimizer_embedding, lr_scheduler_embedding, \\\n",
    "        classifier, loss_function_classifier, optimizer_classifier, lr_scheduler_classifier\n"
   ],
   "metadata": {
    "id": "HvTLDxqL0xqP",
    "pycharm": {
     "name": "#%%\n"
    }
   },
   "execution_count": null,
   "outputs": []
  },
  {
   "cell_type": "code",
   "source": [
    "from torch.utils.data.dataset import TensorDataset\n",
    "\n",
    "\n",
    "def train(image_path, pose_path, label_path, num_class, epochs=10, batch_size=64):\n",
    "    transform = transforms.Compose([\n",
    "        transforms.Resize((128, 64)),\n",
    "        transforms.RandomHorizontalFlip(),\n",
    "        transforms.ToTensor(),\n",
    "        transforms.Normalize(mean=(0.5, 0.5, 0.5), std=(0.5, 0.5, 0.5)),\n",
    "        transforms.RandomErasing(),                           \n",
    "    ])\n",
    "    reid_dataset = CenTriDataset(image_path, label_path, transform)\n",
    "    losses_embed = list()\n",
    "    losses_class = list()\n",
    "    embed_model, loss_embed, optim_embed, lr_embed, class_model, loss_class, optim_class, lr_class = training_strategy(num_class)\n",
    "    embed_model.train()\n",
    "    for epoch in range(epochs):\n",
    "        # reid_dataset = MyDataset(image_path, pose_path, label_path, transform)\n",
    "        dataloader = DataLoaderX(reid_dataset, batch_size, True, num_workers=4, pin_memory=True)\n",
    "        iterator = tqdm(dataloader)\n",
    "        for sample in iterator:\n",
    "            optim_embed.zero_grad()\n",
    "            # image1, image2, pose1, pose2, labels, _ = sample\n",
    "            image, label = sample\n",
    "            image, label = image.cuda(), label.cuda()\n",
    "            # image1 = image1.cuda()\n",
    "            # image2 = image2.cuda()\n",
    "            # labels = labels.cuda()\n",
    "            # feature1 = embed_model(image1)\n",
    "            # feature2 = embed_model(image2)\n",
    "            feature = embed_model(image)\n",
    "            # loss = loss_embed(feature1, feature2, labels, pose1, pose2)\n",
    "            loss = loss_embed(feature, label)\n",
    "            # losses_embed.append(loss.item() / batch_size)\n",
    "            losses_embed.append(loss.item())\n",
    "            loss.backward()\n",
    "            nn.utils.clip_grad_norm_(embed_model.parameters(), 10.)\n",
    "            optim_embed.step()\n",
    "            lr_embed.step()\n",
    "            status = \"epoch: {}, lr: {:.6f}, loss: {:.4f}\".format(epoch, lr_embed.get_last_lr()[0], loss.item())\n",
    "            iterator.set_description(status)\n",
    "    # Once the training is completed, do the inference to obtain the embeddings\n",
    "    embed_model = embed_model.eval()\n",
    "    feature_set = list()\n",
    "    label_set = list()\n",
    "    with torch.no_grad():\n",
    "        dataloader_inference = DataLoaderX(reid_dataset, batch_size, num_workers=4, pin_memory=True)\n",
    "        print(\"Start Inferencing..................\")\n",
    "        for sample in tqdm(dataloader_inference):\n",
    "            # image1, _, _, _, _, labels = sample\n",
    "            image1, labels = sample\n",
    "            image1 = image1.cuda()\n",
    "            feature1 = embed_model(image1)\n",
    "            feature_set.append(feature1.detach().cpu())\n",
    "            label_set.append(labels.detach().cpu())\n",
    "    feature_set = torch.cat(feature_set, dim=0)\n",
    "    label_set = torch.cat(label_set, dim=0)\n",
    "    classDataset = TensorDataset(feature_set, label_set)\n",
    "\n",
    "    class_model.train()\n",
    "    for epoch in range(epochs):\n",
    "        dataloader = DataLoaderX(classDataset, batch_size, True, num_workers=4, pin_memory=True)\n",
    "        iterator = tqdm(dataloader)\n",
    "        for sample in iterator:\n",
    "            optim_class.zero_grad()\n",
    "            embed, label = sample\n",
    "            embed = embed.cuda()\n",
    "            label = label.cuda()\n",
    "            prediction = class_model(embed)\n",
    "            loss = loss_class(prediction, label)\n",
    "            losses_class.append(loss.item())\n",
    "            loss.backward()\n",
    "            nn.utils.clip_grad_norm_(class_model.parameters(), 10.)\n",
    "            optim_class.step()\n",
    "            lr_class.step()\n",
    "            status = \"epoch: {}, lr: {:.6f}, loss: {:.4f}\".format(epoch, lr_class.get_last_lr()[0], loss.item())\n",
    "            iterator.set_description(status)\n",
    "    class_model = class_model.eval()\n",
    "    return embed_model, class_model, losses_embed, losses_class\n",
    "\n",
    "\n",
    "def plot_losses(losses_embed, losses_class):\n",
    "    plt.figure()\n",
    "    plt.plot(losses_embed, linewidth=2, color=\"r\", label=\"embedding loss\")\n",
    "    plt.plot(losses_class, linewidth=2, color=\"b\", label=\"classifier loss\")\n",
    "    plt.xlabel(\"iterations\")\n",
    "    plt.ylabel(\"loss value\")\n",
    "    plt.title(\"loss functions\")\n",
    "    plt.legend()\n",
    "    plt.grid()\n",
    "    plt.show()"
   ],
   "metadata": {
    "id": "yWmKaFCGFDjd",
    "pycharm": {
     "name": "#%%\n"
    }
   },
   "execution_count": null,
   "outputs": []
  },
  {
   "cell_type": "code",
   "source": [
    "image_path = sorted(glob.glob(\"Market1501/bounding_box_train/*.jpg\"))\n",
    "pose_path = sorted(glob.glob(\"Market1501/bounding_box_train_pose/*.png\"))\n",
    "label_path = list(map(lambda x: int(x.split(\"/\")[-1][:4]), image_path))\n",
    "label_path = relabel(label_path)\n",
    "print(max(label_path))\n",
    "assert len(image_path) == len(pose_path)"
   ],
   "metadata": {
    "colab": {
     "base_uri": "https://localhost:8080/"
    },
    "id": "1Od8mXAKJt-M",
    "executionInfo": {
     "status": "ok",
     "timestamp": 1644593153171,
     "user_tz": 300,
     "elapsed": 112693,
     "user": {
      "displayName": "胡明哲",
      "photoUrl": "https://lh3.googleusercontent.com/a/default-user=s64",
      "userId": "14614187422162607500"
     }
    },
    "outputId": "d00ff93a-0fb4-406b-961c-9a3b8d790c61",
    "pycharm": {
     "name": "#%%\n"
    }
   },
   "execution_count": 13,
   "outputs": [
    {
     "output_type": "stream",
     "name": "stdout",
     "text": [
      "750\n"
     ]
    }
   ]
  },
  {
   "cell_type": "code",
   "source": [
    "embed_model, class_model, losses_embed, losses_cls = train(image_path, pose_path, label_path, max(label_path)+1, 15)\n",
    "plot_losses(losses_embed, losses_cls)"
   ],
   "metadata": {
    "colab": {
     "base_uri": "https://localhost:8080/",
     "height": 920
    },
    "id": "rljuxyPlO3Js",
    "executionInfo": {
     "status": "ok",
     "timestamp": 1644111369500,
     "user_tz": 300,
     "elapsed": 866482,
     "user": {
      "displayName": "胡明哲",
      "photoUrl": "https://lh3.googleusercontent.com/a/default-user=s64",
      "userId": "14614187422162607500"
     }
    },
    "outputId": "5ecb9532-8eab-4a9f-9c2a-6eeddbedb17e",
    "pycharm": {
     "name": "#%%\n"
    }
   },
   "execution_count": null,
   "outputs": [
    {
     "output_type": "stream",
     "name": "stderr",
     "text": [
      "/usr/local/lib/python3.7/dist-packages/torch/utils/data/dataloader.py:481: UserWarning: This DataLoader will create 4 worker processes in total. Our suggested max number of worker in current system is 2, which is smaller than what this DataLoader is going to create. Please be aware that excessive worker creation might get DataLoader running slow or even freeze, lower the worker number to avoid potential slowness/freeze if necessary.\n",
      "  cpuset_checked))\n",
      "epoch: 0, lr: 0.001000, loss: 2.5512: 100%|██████████| 203/203 [00:53<00:00,  3.79it/s]\n",
      "epoch: 1, lr: 0.001000, loss: 2.6628: 100%|██████████| 203/203 [00:53<00:00,  3.79it/s]\n",
      "epoch: 2, lr: 0.001000, loss: 5.0208: 100%|██████████| 203/203 [00:53<00:00,  3.80it/s]\n",
      "epoch: 3, lr: 0.001000, loss: 2.3470: 100%|██████████| 203/203 [00:53<00:00,  3.81it/s]\n",
      "epoch: 4, lr: 0.000500, loss: 2.4065: 100%|██████████| 203/203 [00:53<00:00,  3.79it/s]\n",
      "epoch: 5, lr: 0.000500, loss: 2.1196: 100%|██████████| 203/203 [00:53<00:00,  3.82it/s]\n",
      "epoch: 6, lr: 0.000500, loss: 2.2539: 100%|██████████| 203/203 [00:53<00:00,  3.81it/s]\n",
      "epoch: 7, lr: 0.000500, loss: 1.8579: 100%|██████████| 203/203 [00:53<00:00,  3.80it/s]\n",
      "epoch: 8, lr: 0.000500, loss: 1.7932: 100%|██████████| 203/203 [00:53<00:00,  3.80it/s]\n",
      "epoch: 9, lr: 0.000250, loss: 1.8956: 100%|██████████| 203/203 [00:53<00:00,  3.82it/s]\n",
      "epoch: 10, lr: 0.000250, loss: 1.6360: 100%|██████████| 203/203 [00:53<00:00,  3.79it/s]\n",
      "epoch: 11, lr: 0.000250, loss: 1.6189: 100%|██████████| 203/203 [00:53<00:00,  3.80it/s]\n",
      "epoch: 12, lr: 0.000250, loss: 1.6433: 100%|██████████| 203/203 [00:53<00:00,  3.82it/s]\n",
      "epoch: 13, lr: 0.000250, loss: 1.8030: 100%|██████████| 203/203 [00:53<00:00,  3.80it/s]\n",
      "epoch: 14, lr: 0.000125, loss: 1.5852: 100%|██████████| 203/203 [00:53<00:00,  3.80it/s]\n"
     ]
    },
    {
     "output_type": "stream",
     "name": "stdout",
     "text": [
      "Start Inferencing..................\n"
     ]
    },
    {
     "output_type": "stream",
     "name": "stderr",
     "text": [
      "100%|██████████| 203/203 [00:23<00:00,  8.47it/s]\n",
      "epoch: 0, lr: 0.005000, loss: 5.3505: 100%|██████████| 203/203 [00:02<00:00, 76.24it/s]\n",
      "epoch: 1, lr: 0.005000, loss: 5.1443: 100%|██████████| 203/203 [00:02<00:00, 78.13it/s]\n",
      "epoch: 2, lr: 0.005000, loss: 4.8176: 100%|██████████| 203/203 [00:02<00:00, 77.30it/s]\n",
      "epoch: 3, lr: 0.005000, loss: 4.3242: 100%|██████████| 203/203 [00:02<00:00, 78.58it/s]\n",
      "epoch: 4, lr: 0.005000, loss: 5.1127: 100%|██████████| 203/203 [00:02<00:00, 76.58it/s]\n",
      "epoch: 5, lr: 0.005000, loss: 3.8419: 100%|██████████| 203/203 [00:02<00:00, 78.27it/s]\n",
      "epoch: 6, lr: 0.005000, loss: 4.2143: 100%|██████████| 203/203 [00:02<00:00, 76.88it/s]\n",
      "epoch: 7, lr: 0.005000, loss: 3.5276: 100%|██████████| 203/203 [00:02<00:00, 77.89it/s]\n",
      "epoch: 8, lr: 0.005000, loss: 3.8461: 100%|██████████| 203/203 [00:03<00:00, 66.81it/s]\n",
      "epoch: 9, lr: 0.002500, loss: 2.6427: 100%|██████████| 203/203 [00:02<00:00, 77.02it/s]\n",
      "epoch: 10, lr: 0.002500, loss: 3.1354: 100%|██████████| 203/203 [00:02<00:00, 75.56it/s]\n",
      "epoch: 11, lr: 0.002500, loss: 4.3185: 100%|██████████| 203/203 [00:02<00:00, 77.17it/s]\n",
      "epoch: 12, lr: 0.002500, loss: 3.4264: 100%|██████████| 203/203 [00:03<00:00, 63.81it/s]\n",
      "epoch: 13, lr: 0.002500, loss: 3.4933: 100%|██████████| 203/203 [00:02<00:00, 75.21it/s]\n",
      "epoch: 14, lr: 0.002500, loss: 3.5309: 100%|██████████| 203/203 [00:02<00:00, 75.93it/s]\n"
     ]
    },
    {
     "output_type": "display_data",
     "data": {
      "image/png": "[encoded data removed]",
      "text/plain": [
       "<Figure size 432x288 with 1 Axes>"
      ]
     },
     "metadata": {
      "needs_background": "light"
     }
    }
   ]
  },
  {
   "cell_type": "markdown",
   "source": [
    "Do not train the network separately, merge the loss function together!"
   ],
   "metadata": {
    "id": "56YMDnvE6VRE",
    "pycharm": {
     "name": "#%% md\n"
    }
   }
  },
  {
   "cell_type": "code",
   "source": [
    "class SEDense18_split(nn.Module):\n",
    "    def __init__(self, num_class=751, needs_norm=True, is_reid=False):\n",
    "        super().__init__()\n",
    "        model = models.resnet18(pretrained=True)\n",
    "        self.conv0 = model.conv1\n",
    "        self.bn0 = model.bn1\n",
    "        self.relu0 = model.relu\n",
    "        self.pooling0 = model.maxpool\n",
    "        self.basicBlock11 = model.layer1[0]\n",
    "        self.seblock1 = SEBlock(64)\n",
    "\n",
    "        self.basicBlock12 = model.layer1[1]\n",
    "        self.seblock2 = SEBlock(64)\n",
    "\n",
    "        self.basicBlock21 = model.layer2[0]\n",
    "        self.seblock3 = SEBlock(128)\n",
    "        self.ancillaryconv3 = nn.Conv2d(64, 128, 1, 2, 0)\n",
    "        self.optionalNorm2dconv3 = nn.BatchNorm2d(128)\n",
    "\n",
    "        self.basicBlock22 = model.layer2[1]\n",
    "        self.seblock4 = SEBlock(128)\n",
    "\n",
    "        self.basicBlock31 = model.layer3[0]\n",
    "        self.seblock5 = SEBlock(256)\n",
    "        self.ancillaryconv5 = nn.Conv2d(128, 256, 1, 2, 0)\n",
    "        self.optionalNorm2dconv5 = nn.BatchNorm2d(256)\n",
    "\n",
    "        self.basicBlock32 = model.layer3[1]\n",
    "        self.seblock6 = SEBlock(256)\n",
    "\n",
    "        self.basicBlock41 = model.layer4[0]\n",
    "        # last stride = 1\n",
    "        self.basicBlock41.conv1 = nn.Conv2d(256, 512, kernel_size=(3, 3), stride=(1, 1), padding=(1, 1), bias=False, device=\"cuda:0\")\n",
    "        self.basicBlock41.downsample[0] = nn.Conv2d(256, 512, kernel_size=(1,1), stride=(1,1), bias=False, device=\"cuda:0\")\n",
    "        self.seblock7 = SEBlock(512)\n",
    "        self.ancillaryconv7 = nn.Conv2d(256, 512, 1, 1, 0)\n",
    "        self.optionalNorm2dconv7 = nn.BatchNorm2d(512)\n",
    "\n",
    "        self.basicBlock42 = model.layer4[1]\n",
    "        self.seblock8 = SEBlock(512)\n",
    "\n",
    "        self.avgpooling = model.avgpool\n",
    "        self.bnneck = nn.BatchNorm1d(512)\n",
    "        self.bnneck.bias.requires_grad_(False)\n",
    "        # self.fc = nn.Linear(512, num_class)\n",
    "        self.classifier = nn.Sequential(\n",
    "            nn.Linear(512, 256),\n",
    "            nn.BatchNorm1d(256),\n",
    "            nn.ReLU(inplace=True),\n",
    "            nn.Dropout(),\n",
    "            nn.Linear(256, num_class),\n",
    "        )\n",
    "        \n",
    "        self.needs_norm = needs_norm\n",
    "        self.is_reid = is_reid\n",
    "    \n",
    "    def forward(self, x):\n",
    "        x = self.conv0(x)\n",
    "        x = self.bn0(x)\n",
    "        x = self.relu0(x)\n",
    "        x = self.pooling0(x)\n",
    "        branch1 = x\n",
    "        x = self.basicBlock11(x)\n",
    "        scale1 = self.seblock1(x)\n",
    "        x = scale1 * x + branch1\n",
    "\n",
    "        branch2 = x\n",
    "        x = self.basicBlock12(x)\n",
    "        scale2 = self.seblock2(x)\n",
    "        x = scale2 * x + branch2\n",
    "\n",
    "        branch3 = x\n",
    "        x = self.basicBlock21(x)\n",
    "        scale3 = self.seblock3(x)\n",
    "        if self.needs_norm:\n",
    "            x = scale3 * x + self.optionalNorm2dconv3(self.ancillaryconv3(branch3))\n",
    "        else:\n",
    "            x = scale3 * x + self.ancillaryconv3(branch3)\n",
    "\n",
    "        branch4 = x\n",
    "        x = self.basicBlock22(x)\n",
    "        scale4 = self.seblock4(x)\n",
    "        x = scale4 * x + branch4\n",
    "\n",
    "        branch5 = x\n",
    "        x = self.basicBlock31(x)\n",
    "        scale5 = self.seblock5(x)\n",
    "        if self.needs_norm:\n",
    "            x = scale5 * x + self.optionalNorm2dconv5(self.ancillaryconv5(branch5))\n",
    "        else:\n",
    "            x = scale5 * x + self.ancillaryconv5(branch5)\n",
    "\n",
    "        branch6 = x\n",
    "        x = self.basicBlock32(x)\n",
    "        scale6 = self.seblock6(x)\n",
    "        x = scale6 * x + branch6\n",
    "\n",
    "        branch7 = x\n",
    "        x = self.basicBlock41(x)\n",
    "        scale7 = self.seblock7(x)\n",
    "        if self.needs_norm:\n",
    "            x = scale7 * x + self.optionalNorm2dconv7(self.ancillaryconv7(branch7))\n",
    "        else:\n",
    "            x = scale7 * x + self.ancillaryconv7(branch7)\n",
    "\n",
    "        branch8 = x\n",
    "        x = self.basicBlock42(x)\n",
    "        scale8 = self.seblock8(x)\n",
    "        x = scale8 * x + branch8\n",
    "\n",
    "        x = self.avgpooling(x)\n",
    "        feature = x.view(x.size(0), -1)\n",
    "        if self.is_reid:\n",
    "            return feature\n",
    "        x = self.bnneck(feature)\n",
    "        x = self.classifier(x)\n",
    "\n",
    "        return x, feature\n"
   ],
   "metadata": {
    "id": "JKwVhSJRA8wO",
    "pycharm": {
     "name": "#%%\n"
    }
   },
   "execution_count": null,
   "outputs": []
  },
  {
   "cell_type": "code",
   "source": [
    "class IBN(nn.Module):\n",
    "    def __init__(self, in_channels, ratio=0.5):\n",
    "        \"\"\"\n",
    "        Some do instance norm, some do batch norm\n",
    "        \"\"\"\n",
    "        super().__init__()\n",
    "        self.in_channels = in_channels\n",
    "        self.ratio = ratio\n",
    "        self.half = int(self.in_channels * ratio)\n",
    "        self.IN = nn.InstanceNorm2d(self.half, affine=True)\n",
    "        self.BN = nn.BatchNorm2d(self.in_channels - self.half)\n",
    "    \n",
    "    def forward(self, x):\n",
    "        split = torch.split(x, self.half, 1)\n",
    "        out1 = self.IN(split[0].contiguous())\n",
    "        out2 = self.BN(split[1].contiguous())\n",
    "        out = torch.cat((out1, out2), 1)\n",
    "        return out\n",
    "\n",
    "\n",
    "class SEDense18_IBN(nn.Module):\n",
    "    def __init__(self, num_class=751, needs_norm=True, is_reid=False):\n",
    "        super().__init__()\n",
    "        model = models.resnet18(pretrained=True)\n",
    "        self.conv0 = model.conv1\n",
    "        self.bn0 = model.bn1\n",
    "        self.relu0 = model.relu\n",
    "        self.pooling0 = model.maxpool\n",
    "\n",
    "        model.layer1[0].bn1 = IBN(64)\n",
    "        self.basicBlock11 = model.layer1[0]\n",
    "        self.seblock1 = SEBlock(64)\n",
    "\n",
    "        self.basicBlock12 = model.layer1[1]\n",
    "        self.seblock2 = SEBlock(64)\n",
    "\n",
    "        model.layer2[0].bn1 = IBN(128)\n",
    "        self.basicBlock21 = model.layer2[0]\n",
    "        self.seblock3 = SEBlock(128)\n",
    "        self.ancillaryconv3 = nn.Conv2d(64, 128, 1, 2, 0)\n",
    "        self.optionalNorm2dconv3 = nn.BatchNorm2d(128)\n",
    "\n",
    "        self.basicBlock22 = model.layer2[1]\n",
    "        self.seblock4 = SEBlock(128)\n",
    "        \n",
    "        model.layer3[0].bn1 = IBN(256)\n",
    "        self.basicBlock31 = model.layer3[0]\n",
    "        self.seblock5 = SEBlock(256)\n",
    "        self.ancillaryconv5 = nn.Conv2d(128, 256, 1, 2, 0)\n",
    "        self.optionalNorm2dconv5 = nn.BatchNorm2d(256)\n",
    "\n",
    "        self.basicBlock32 = model.layer3[1]\n",
    "        self.seblock6 = SEBlock(256)\n",
    "\n",
    "        self.basicBlock41 = model.layer4[0]\n",
    "        # last stride = 1\n",
    "        self.basicBlock41.conv1 = nn.Conv2d(256, 512, kernel_size=(3, 3), stride=(1, 1), padding=(1, 1), bias=False, device=\"cuda:0\")\n",
    "        self.basicBlock41.downsample[0] = nn.Conv2d(256, 512, kernel_size=(1,1), stride=(1,1), bias=False, device=\"cuda:0\")\n",
    "        self.seblock7 = SEBlock(512)\n",
    "        self.ancillaryconv7 = nn.Conv2d(256, 512, 1, 1, 0)\n",
    "        self.optionalNorm2dconv7 = nn.BatchNorm2d(512)\n",
    "\n",
    "        self.basicBlock42 = model.layer4[1]\n",
    "        self.seblock8 = SEBlock(512)\n",
    "\n",
    "        self.avgpooling = model.avgpool\n",
    "\n",
    "        self.bnneck = nn.BatchNorm1d(512)\n",
    "        self.bnneck.bias.requires_grad_(False)\n",
    "\n",
    "        self.classifier = nn.Sequential(\n",
    "            nn.Linear(512, 256),\n",
    "            nn.BatchNorm1d(256),\n",
    "            nn.ReLU(inplace=True),\n",
    "            nn.Dropout(),\n",
    "            nn.Linear(256, num_class),\n",
    "        )\n",
    "        self.needs_norm = needs_norm\n",
    "        self.is_reid = is_reid\n",
    "    \n",
    "    def forward(self, x):\n",
    "        x = self.conv0(x)\n",
    "        x = self.bn0(x)\n",
    "        x = self.relu0(x)\n",
    "        x = self.pooling0(x)\n",
    "        branch1 = x\n",
    "        x = self.basicBlock11(x)\n",
    "        scale1 = self.seblock1(x)\n",
    "        x = scale1 * x + branch1\n",
    "\n",
    "        branch2 = x\n",
    "        x = self.basicBlock12(x)\n",
    "        scale2 = self.seblock2(x)\n",
    "        x = scale2 * x + branch2\n",
    "\n",
    "        branch3 = x\n",
    "        x = self.basicBlock21(x)\n",
    "        scale3 = self.seblock3(x)\n",
    "        if self.needs_norm:\n",
    "            x = scale3 * x + self.optionalNorm2dconv3(self.ancillaryconv3(branch3))\n",
    "        else:\n",
    "            x = scale3 * x + self.ancillaryconv3(branch3)\n",
    "\n",
    "        branch4 = x\n",
    "        x = self.basicBlock22(x)\n",
    "        scale4 = self.seblock4(x)\n",
    "        x = scale4 * x + branch4\n",
    "\n",
    "        branch5 = x\n",
    "        x = self.basicBlock31(x)\n",
    "        scale5 = self.seblock5(x)\n",
    "        if self.needs_norm:\n",
    "            x = scale5 * x + self.optionalNorm2dconv5(self.ancillaryconv5(branch5))\n",
    "        else:\n",
    "            x = scale5 * x + self.ancillaryconv5(branch5)\n",
    "\n",
    "        branch6 = x\n",
    "        x = self.basicBlock32(x)\n",
    "        scale6 = self.seblock6(x)\n",
    "        x = scale6 * x + branch6\n",
    "\n",
    "        branch7 = x\n",
    "        x = self.basicBlock41(x)\n",
    "        scale7 = self.seblock7(x)\n",
    "        if self.needs_norm:\n",
    "            x = scale7 * x + self.optionalNorm2dconv7(self.ancillaryconv7(branch7))\n",
    "        else:\n",
    "            x = scale7 * x + self.ancillaryconv7(branch7)\n",
    "\n",
    "        branch8 = x\n",
    "        x = self.basicBlock42(x)\n",
    "        scale8 = self.seblock8(x)\n",
    "        x = scale8 * x + branch8\n",
    "\n",
    "        x = self.avgpooling(x)\n",
    "        feature = x.view(x.size(0), -1)\n",
    "        if self.is_reid:\n",
    "            return feature\n",
    "        x = self.bnneck(feature)\n",
    "        x = self.classifier(x)\n",
    "\n",
    "        return x, feature\n",
    "\n",
    "my_model = SEDense18_IBN().cuda()\n",
    "summary(my_model, input_size=(3, 128, 64))"
   ],
   "metadata": {
    "colab": {
     "base_uri": "https://localhost:8080/"
    },
    "id": "14zxBq3sSWLx",
    "executionInfo": {
     "status": "ok",
     "timestamp": 1644593693377,
     "user_tz": 300,
     "elapsed": 705,
     "user": {
      "displayName": "胡明哲",
      "photoUrl": "https://lh3.googleusercontent.com/a/default-user=s64",
      "userId": "14614187422162607500"
     }
    },
    "outputId": "cbc17e37-dd94-4c5c-f56f-0fd6f01ecbde",
    "pycharm": {
     "name": "#%%\n"
    }
   },
   "execution_count": 20,
   "outputs": [
    {
     "output_type": "stream",
     "name": "stdout",
     "text": [
      "----------------------------------------------------------------\n",
      "        Layer (type)               Output Shape         Param #\n",
      "================================================================\n",
      "            Conv2d-1           [-1, 64, 64, 32]           9,408\n",
      "       BatchNorm2d-2           [-1, 64, 64, 32]             128\n",
      "              ReLU-3           [-1, 64, 64, 32]               0\n",
      "         MaxPool2d-4           [-1, 64, 32, 16]               0\n",
      "            Conv2d-5           [-1, 64, 32, 16]          36,864\n",
      "    InstanceNorm2d-6           [-1, 32, 32, 16]              64\n",
      "       BatchNorm2d-7           [-1, 32, 32, 16]              64\n",
      "               IBN-8           [-1, 64, 32, 16]               0\n",
      "              ReLU-9           [-1, 64, 32, 16]               0\n",
      "           Conv2d-10           [-1, 64, 32, 16]          36,864\n",
      "      BatchNorm2d-11           [-1, 64, 32, 16]             128\n",
      "             ReLU-12           [-1, 64, 32, 16]               0\n",
      "       BasicBlock-13           [-1, 64, 32, 16]               0\n",
      "AdaptiveAvgPool2d-14             [-1, 64, 1, 1]               0\n",
      "           Linear-15                    [-1, 4]             260\n",
      "             ReLU-16                    [-1, 4]               0\n",
      "           Linear-17                   [-1, 64]             320\n",
      "          Sigmoid-18             [-1, 64, 1, 1]               0\n",
      "          SEBlock-19             [-1, 64, 1, 1]               0\n",
      "           Conv2d-20           [-1, 64, 32, 16]          36,864\n",
      "      BatchNorm2d-21           [-1, 64, 32, 16]             128\n",
      "             ReLU-22           [-1, 64, 32, 16]               0\n",
      "           Conv2d-23           [-1, 64, 32, 16]          36,864\n",
      "      BatchNorm2d-24           [-1, 64, 32, 16]             128\n",
      "             ReLU-25           [-1, 64, 32, 16]               0\n",
      "       BasicBlock-26           [-1, 64, 32, 16]               0\n",
      "AdaptiveAvgPool2d-27             [-1, 64, 1, 1]               0\n",
      "           Linear-28                    [-1, 4]             260\n",
      "             ReLU-29                    [-1, 4]               0\n",
      "           Linear-30                   [-1, 64]             320\n",
      "          Sigmoid-31             [-1, 64, 1, 1]               0\n",
      "          SEBlock-32             [-1, 64, 1, 1]               0\n",
      "           Conv2d-33           [-1, 128, 16, 8]          73,728\n",
      "   InstanceNorm2d-34            [-1, 64, 16, 8]             128\n",
      "      BatchNorm2d-35            [-1, 64, 16, 8]             128\n",
      "              IBN-36           [-1, 128, 16, 8]               0\n",
      "             ReLU-37           [-1, 128, 16, 8]               0\n",
      "           Conv2d-38           [-1, 128, 16, 8]         147,456\n",
      "      BatchNorm2d-39           [-1, 128, 16, 8]             256\n",
      "           Conv2d-40           [-1, 128, 16, 8]           8,192\n",
      "      BatchNorm2d-41           [-1, 128, 16, 8]             256\n",
      "             ReLU-42           [-1, 128, 16, 8]               0\n",
      "       BasicBlock-43           [-1, 128, 16, 8]               0\n",
      "AdaptiveAvgPool2d-44            [-1, 128, 1, 1]               0\n",
      "           Linear-45                    [-1, 8]           1,032\n",
      "             ReLU-46                    [-1, 8]               0\n",
      "           Linear-47                  [-1, 128]           1,152\n",
      "          Sigmoid-48            [-1, 128, 1, 1]               0\n",
      "          SEBlock-49            [-1, 128, 1, 1]               0\n",
      "           Conv2d-50           [-1, 128, 16, 8]           8,320\n",
      "      BatchNorm2d-51           [-1, 128, 16, 8]             256\n",
      "           Conv2d-52           [-1, 128, 16, 8]         147,456\n",
      "      BatchNorm2d-53           [-1, 128, 16, 8]             256\n",
      "             ReLU-54           [-1, 128, 16, 8]               0\n",
      "           Conv2d-55           [-1, 128, 16, 8]         147,456\n",
      "      BatchNorm2d-56           [-1, 128, 16, 8]             256\n",
      "             ReLU-57           [-1, 128, 16, 8]               0\n",
      "       BasicBlock-58           [-1, 128, 16, 8]               0\n",
      "AdaptiveAvgPool2d-59            [-1, 128, 1, 1]               0\n",
      "           Linear-60                    [-1, 8]           1,032\n",
      "             ReLU-61                    [-1, 8]               0\n",
      "           Linear-62                  [-1, 128]           1,152\n",
      "          Sigmoid-63            [-1, 128, 1, 1]               0\n",
      "          SEBlock-64            [-1, 128, 1, 1]               0\n",
      "           Conv2d-65            [-1, 256, 8, 4]         294,912\n",
      "   InstanceNorm2d-66            [-1, 128, 8, 4]             256\n",
      "      BatchNorm2d-67            [-1, 128, 8, 4]             256\n",
      "              IBN-68            [-1, 256, 8, 4]               0\n",
      "             ReLU-69            [-1, 256, 8, 4]               0\n",
      "           Conv2d-70            [-1, 256, 8, 4]         589,824\n",
      "      BatchNorm2d-71            [-1, 256, 8, 4]             512\n",
      "           Conv2d-72            [-1, 256, 8, 4]          32,768\n",
      "      BatchNorm2d-73            [-1, 256, 8, 4]             512\n",
      "             ReLU-74            [-1, 256, 8, 4]               0\n",
      "       BasicBlock-75            [-1, 256, 8, 4]               0\n",
      "AdaptiveAvgPool2d-76            [-1, 256, 1, 1]               0\n",
      "           Linear-77                   [-1, 16]           4,112\n",
      "             ReLU-78                   [-1, 16]               0\n",
      "           Linear-79                  [-1, 256]           4,352\n",
      "          Sigmoid-80            [-1, 256, 1, 1]               0\n",
      "          SEBlock-81            [-1, 256, 1, 1]               0\n",
      "           Conv2d-82            [-1, 256, 8, 4]          33,024\n",
      "      BatchNorm2d-83            [-1, 256, 8, 4]             512\n",
      "           Conv2d-84            [-1, 256, 8, 4]         589,824\n",
      "      BatchNorm2d-85            [-1, 256, 8, 4]             512\n",
      "             ReLU-86            [-1, 256, 8, 4]               0\n",
      "           Conv2d-87            [-1, 256, 8, 4]         589,824\n",
      "      BatchNorm2d-88            [-1, 256, 8, 4]             512\n",
      "             ReLU-89            [-1, 256, 8, 4]               0\n",
      "       BasicBlock-90            [-1, 256, 8, 4]               0\n",
      "AdaptiveAvgPool2d-91            [-1, 256, 1, 1]               0\n",
      "           Linear-92                   [-1, 16]           4,112\n",
      "             ReLU-93                   [-1, 16]               0\n",
      "           Linear-94                  [-1, 256]           4,352\n",
      "          Sigmoid-95            [-1, 256, 1, 1]               0\n",
      "          SEBlock-96            [-1, 256, 1, 1]               0\n",
      "           Conv2d-97            [-1, 512, 8, 4]       1,179,648\n",
      "      BatchNorm2d-98            [-1, 512, 8, 4]           1,024\n",
      "             ReLU-99            [-1, 512, 8, 4]               0\n",
      "          Conv2d-100            [-1, 512, 8, 4]       2,359,296\n",
      "     BatchNorm2d-101            [-1, 512, 8, 4]           1,024\n",
      "          Conv2d-102            [-1, 512, 8, 4]         131,072\n",
      "     BatchNorm2d-103            [-1, 512, 8, 4]           1,024\n",
      "            ReLU-104            [-1, 512, 8, 4]               0\n",
      "      BasicBlock-105            [-1, 512, 8, 4]               0\n",
      "AdaptiveAvgPool2d-106            [-1, 512, 1, 1]               0\n",
      "          Linear-107                   [-1, 32]          16,416\n",
      "            ReLU-108                   [-1, 32]               0\n",
      "          Linear-109                  [-1, 512]          16,896\n",
      "         Sigmoid-110            [-1, 512, 1, 1]               0\n",
      "         SEBlock-111            [-1, 512, 1, 1]               0\n",
      "          Conv2d-112            [-1, 512, 8, 4]         131,584\n",
      "     BatchNorm2d-113            [-1, 512, 8, 4]           1,024\n",
      "          Conv2d-114            [-1, 512, 8, 4]       2,359,296\n",
      "     BatchNorm2d-115            [-1, 512, 8, 4]           1,024\n",
      "            ReLU-116            [-1, 512, 8, 4]               0\n",
      "          Conv2d-117            [-1, 512, 8, 4]       2,359,296\n",
      "     BatchNorm2d-118            [-1, 512, 8, 4]           1,024\n",
      "            ReLU-119            [-1, 512, 8, 4]               0\n",
      "      BasicBlock-120            [-1, 512, 8, 4]               0\n",
      "AdaptiveAvgPool2d-121            [-1, 512, 1, 1]               0\n",
      "          Linear-122                   [-1, 32]          16,416\n",
      "            ReLU-123                   [-1, 32]               0\n",
      "          Linear-124                  [-1, 512]          16,896\n",
      "         Sigmoid-125            [-1, 512, 1, 1]               0\n",
      "         SEBlock-126            [-1, 512, 1, 1]               0\n",
      "AdaptiveAvgPool2d-127            [-1, 512, 1, 1]               0\n",
      "     BatchNorm1d-128                  [-1, 512]           1,024\n",
      "          Linear-129                  [-1, 256]         131,328\n",
      "     BatchNorm1d-130                  [-1, 256]             512\n",
      "            ReLU-131                  [-1, 256]               0\n",
      "         Dropout-132                  [-1, 256]               0\n",
      "          Linear-133                  [-1, 751]         193,007\n",
      "================================================================\n",
      "Total params: 11,766,183\n",
      "Trainable params: 11,766,183\n",
      "Non-trainable params: 0\n",
      "----------------------------------------------------------------\n",
      "Input size (MB): 0.09\n",
      "Forward/backward pass size (MB): 12.89\n",
      "Params size (MB): 44.88\n",
      "Estimated Total Size (MB): 57.87\n",
      "----------------------------------------------------------------\n"
     ]
    }
   ]
  },
  {
   "cell_type": "code",
   "source": [
    "class HybridLoss3(nn.Module):\n",
    "    def __init__(self, num_classes, feat_dim=512, margin=0.3, smoothing=0.1):\n",
    "        super().__init__()\n",
    "        self.center = CenterLoss(num_classes=num_classes, feat_dim=feat_dim)\n",
    "        self.triplet = TripletLoss(margin)\n",
    "        self.smooth = LabelSmoothing(smoothing)\n",
    "\n",
    "    def forward(self, embeddings, outputs, targets):\n",
    "        \"\"\"\n",
    "        features: feature vectors\n",
    "        targets: ground truth labels\n",
    "        \"\"\"\n",
    "        smooth_loss = self.smooth(outputs, targets)\n",
    "        triplet_loss = self.triplet(embeddings, targets)\n",
    "        center_loss = self.center(embeddings, targets)\n",
    "        return smooth_loss + triplet_loss + 0.0005 * center_loss"
   ],
   "metadata": {
    "id": "5dO6lRfp7fqS",
    "executionInfo": {
     "status": "ok",
     "timestamp": 1644593719329,
     "user_tz": 300,
     "elapsed": 150,
     "user": {
      "displayName": "胡明哲",
      "photoUrl": "https://lh3.googleusercontent.com/a/default-user=s64",
      "userId": "14614187422162607500"
     }
    },
    "pycharm": {
     "name": "#%%\n"
    }
   },
   "execution_count": 21,
   "outputs": []
  },
  {
   "cell_type": "code",
   "source": [
    "def train_strategy2(num_classes):\n",
    "    model = SEDense18_IBN(num_class=num_classes, is_reid=False).cuda()\n",
    "    loss_function = HybridLoss3(num_classes)\n",
    "    optimizer = torch.optim.Adam(model.parameters(), lr=0.001, weight_decay=5e-4)\n",
    "    lr_scheduler = torch.optim.lr_scheduler.StepLR(optimizer, step_size=1000, gamma=0.5)\n",
    "    return model, loss_function, optimizer, lr_scheduler"
   ],
   "metadata": {
    "id": "cHkEfHqC6cDp",
    "executionInfo": {
     "status": "ok",
     "timestamp": 1644593721214,
     "user_tz": 300,
     "elapsed": 123,
     "user": {
      "displayName": "胡明哲",
      "photoUrl": "https://lh3.googleusercontent.com/a/default-user=s64",
      "userId": "14614187422162607500"
     }
    },
    "pycharm": {
     "name": "#%%\n"
    }
   },
   "execution_count": 22,
   "outputs": []
  },
  {
   "cell_type": "code",
   "source": [
    "def train2(image_path, label_path, num_class, epochs=10, batch_size=64):\n",
    "    transform = transforms.Compose([\n",
    "        transforms.Resize((128, 64)),\n",
    "        transforms.RandomHorizontalFlip(),\n",
    "        transforms.ToTensor(),\n",
    "        transforms.Normalize(mean=(0.5, 0.5, 0.5), std=(0.5, 0.5, 0.5)),\n",
    "        transforms.RandomErasing(),                           \n",
    "    ])\n",
    "    reid_dataset = CenTriDataset(image_path, label_path, transform)\n",
    "    losses_func = list()\n",
    "    model, loss_func, optim_func, lr_func = train_strategy2(num_class)\n",
    "    model.train()\n",
    "    for epoch in range(epochs):\n",
    "        dataloader = DataLoaderX(reid_dataset, batch_size, True, num_workers=4, pin_memory=True)\n",
    "        iterator = tqdm(dataloader)\n",
    "        for sample in iterator:\n",
    "            optim_func.zero_grad()\n",
    "            image, label = sample\n",
    "            image, label = image.cuda(), label.cuda()\n",
    "\n",
    "            prediction, feature = model(image)\n",
    "\n",
    "            loss = loss_func(feature, prediction, label)\n",
    "\n",
    "            losses_func.append(loss.item())\n",
    "            loss.backward()\n",
    "            nn.utils.clip_grad_norm_(model.parameters(), 10.)\n",
    "            optim_func.step()\n",
    "            lr_func.step()\n",
    "            status = \"epoch: {}, lr: {:.6f}, loss: {:.4f}\".format(epoch, lr_func.get_last_lr()[0], loss.item())\n",
    "            iterator.set_description(status)\n",
    "    model = model.eval()\n",
    "    return model, losses_func\n",
    "\n",
    "\n",
    "def plot_losses2(losses_func):\n",
    "    plt.figure()\n",
    "    plt.plot(losses_func, linewidth=2, color=\"r\", label=\"training loss\")\n",
    "    plt.xlabel(\"iterations\")\n",
    "    plt.ylabel(\"loss value\")\n",
    "    plt.title(\"loss functions\")\n",
    "    plt.legend()\n",
    "    plt.grid()\n",
    "    plt.show()"
   ],
   "metadata": {
    "id": "KQhCWaH5Azyx",
    "executionInfo": {
     "status": "ok",
     "timestamp": 1644593722402,
     "user_tz": 300,
     "elapsed": 143,
     "user": {
      "displayName": "胡明哲",
      "photoUrl": "https://lh3.googleusercontent.com/a/default-user=s64",
      "userId": "14614187422162607500"
     }
    },
    "pycharm": {
     "name": "#%%\n"
    }
   },
   "execution_count": 23,
   "outputs": []
  },
  {
   "cell_type": "code",
   "source": [
    "model, losses_func = train2(image_path, label_path, max(label_path)+1, 25)\n",
    "plot_losses2(losses_func)"
   ],
   "metadata": {
    "colab": {
     "base_uri": "https://localhost:8080/",
     "height": 865
    },
    "id": "K5nPORbSCtsw",
    "executionInfo": {
     "status": "ok",
     "timestamp": 1644595717282,
     "user_tz": 300,
     "elapsed": 1992553,
     "user": {
      "displayName": "胡明哲",
      "photoUrl": "https://lh3.googleusercontent.com/a/default-user=s64",
      "userId": "14614187422162607500"
     }
    },
    "outputId": "dbde49c4-24ad-400f-8c5a-9c6317192cb7",
    "pycharm": {
     "name": "#%%\n"
    }
   },
   "execution_count": 24,
   "outputs": [
    {
     "output_type": "stream",
     "name": "stderr",
     "text": [
      "/usr/local/lib/python3.7/dist-packages/torch/utils/data/dataloader.py:481: UserWarning: This DataLoader will create 4 worker processes in total. Our suggested max number of worker in current system is 2, which is smaller than what this DataLoader is going to create. Please be aware that excessive worker creation might get DataLoader running slow or even freeze, lower the worker number to avoid potential slowness/freeze if necessary.\n",
      "  cpuset_checked))\n",
      "  0%|          | 0/203 [00:00<?, ?it/s]/usr/local/lib/python3.7/dist-packages/ipykernel_launcher.py:76: UserWarning: This overload of addmm_ is deprecated:\n",
      "\taddmm_(Number beta, Number alpha, Tensor mat1, Tensor mat2)\n",
      "Consider using one of the following signatures instead:\n",
      "\taddmm_(Tensor mat1, Tensor mat2, *, Number beta, Number alpha) (Triggered internally at  ../torch/csrc/utils/python_arg_parser.cpp:1050.)\n",
      "epoch: 0, lr: 0.001000, loss: 6.3124: 100%|██████████| 203/203 [16:44<00:00,  4.95s/it]\n",
      "epoch: 1, lr: 0.001000, loss: 5.1329: 100%|██████████| 203/203 [00:40<00:00,  4.96it/s]\n",
      "epoch: 2, lr: 0.001000, loss: 4.7214: 100%|██████████| 203/203 [00:40<00:00,  4.96it/s]\n",
      "epoch: 3, lr: 0.001000, loss: 4.3433: 100%|██████████| 203/203 [00:40<00:00,  4.98it/s]\n",
      "epoch: 4, lr: 0.000500, loss: 3.9427: 100%|██████████| 203/203 [00:40<00:00,  4.96it/s]\n",
      "epoch: 5, lr: 0.000500, loss: 3.2275: 100%|██████████| 203/203 [00:41<00:00,  4.95it/s]\n",
      "epoch: 6, lr: 0.000500, loss: 2.8644: 100%|██████████| 203/203 [00:41<00:00,  4.88it/s]\n",
      "epoch: 7, lr: 0.000500, loss: 4.3060: 100%|██████████| 203/203 [00:41<00:00,  4.94it/s]\n",
      "epoch: 8, lr: 0.000500, loss: 3.0183: 100%|██████████| 203/203 [00:41<00:00,  4.87it/s]\n",
      "epoch: 9, lr: 0.000250, loss: 2.4631: 100%|██████████| 203/203 [00:41<00:00,  4.88it/s]\n",
      "epoch: 10, lr: 0.000250, loss: 3.2040: 100%|██████████| 203/203 [00:41<00:00,  4.92it/s]\n",
      "epoch: 11, lr: 0.000250, loss: 3.2397: 100%|██████████| 203/203 [00:41<00:00,  4.92it/s]\n",
      "epoch: 12, lr: 0.000250, loss: 2.2402: 100%|██████████| 203/203 [00:41<00:00,  4.92it/s]\n",
      "epoch: 13, lr: 0.000250, loss: 2.9435: 100%|██████████| 203/203 [00:40<00:00,  5.00it/s]\n",
      "epoch: 14, lr: 0.000125, loss: 2.2251: 100%|██████████| 203/203 [00:41<00:00,  4.92it/s]\n",
      "epoch: 15, lr: 0.000125, loss: 2.4653: 100%|██████████| 203/203 [00:41<00:00,  4.92it/s]\n",
      "epoch: 16, lr: 0.000125, loss: 2.3824: 100%|██████████| 203/203 [00:41<00:00,  4.93it/s]\n",
      "epoch: 17, lr: 0.000125, loss: 2.4553: 100%|██████████| 203/203 [00:40<00:00,  4.99it/s]\n",
      "epoch: 18, lr: 0.000125, loss: 2.3347: 100%|██████████| 203/203 [00:41<00:00,  4.93it/s]\n",
      "epoch: 19, lr: 0.000063, loss: 1.9460: 100%|██████████| 203/203 [00:41<00:00,  4.92it/s]\n",
      "epoch: 20, lr: 0.000063, loss: 2.1075: 100%|██████████| 203/203 [00:40<00:00,  4.96it/s]\n",
      "epoch: 21, lr: 0.000063, loss: 2.4146: 100%|██████████| 203/203 [00:40<00:00,  4.99it/s]\n",
      "epoch: 22, lr: 0.000063, loss: 2.5683: 100%|██████████| 203/203 [00:41<00:00,  4.88it/s]\n",
      "epoch: 23, lr: 0.000063, loss: 2.3480: 100%|██████████| 203/203 [00:41<00:00,  4.94it/s]\n",
      "epoch: 24, lr: 0.000031, loss: 2.1993: 100%|██████████| 203/203 [00:41<00:00,  4.94it/s]\n"
     ]
    },
    {
     "output_type": "display_data",
     "data": {
      "image/png": "[encoded data removed]",
      "text/plain": [
       "<Figure size 432x288 with 1 Axes>"
      ]
     },
     "metadata": {
      "needs_background": "light"
     }
    }
   ]
  },
  {
   "cell_type": "markdown",
   "source": [
    "Save the model_IBN"
   ],
   "metadata": {
    "id": "8i82FGXgID0k",
    "pycharm": {
     "name": "#%% md\n"
    }
   }
  },
  {
   "cell_type": "code",
   "source": [
    "overall_model = SEDense18_IBN().cuda()\n",
    "overall_model.load_state_dict(model.state_dict())\n",
    "torch.save(overall_model.state_dict(), \"SE18_IBN_checkpoint.pt\")"
   ],
   "metadata": {
    "id": "Ip3JJkO-IAss",
    "executionInfo": {
     "status": "ok",
     "timestamp": 1644596017873,
     "user_tz": 300,
     "elapsed": 599,
     "user": {
      "displayName": "胡明哲",
      "photoUrl": "https://lh3.googleusercontent.com/a/default-user=s64",
      "userId": "14614187422162607500"
     }
    },
    "pycharm": {
     "name": "#%%\n"
    }
   },
   "execution_count": 25,
   "outputs": []
  },
  {
   "cell_type": "markdown",
   "source": [
    "Overall test on image labelling"
   ],
   "metadata": {
    "id": "nKXahSHinFPP",
    "pycharm": {
     "name": "#%% md\n"
    }
   }
  },
  {
   "cell_type": "code",
   "source": [
    "from collections import OrderedDict\n",
    "\n",
    "\n",
    "overall_model = SEDense18().cuda()\n",
    "overall_model.load_state_dict(embed_model.state_dict(), strict=False)\n",
    "for key in class_model.state_dict():\n",
    "    new_key = \"classifier.\" + key\n",
    "    class_model.state_dict()[new_key] = class_model.state_dict()[key].clone()\n",
    "overall_model.load_state_dict(class_model.state_dict(), strict=False)\n",
    "# traced_models = torch.jit.trace(overall_model, torch.randn((1,3,128,64)).to(\"cuda\"))\n",
    "# torch.jit.save(traced_models, \"new_model_checkpoint_traced.pt\")\n",
    "torch.save(overall_model.state_dict(), \"new_model_checkpoint.pt\")"
   ],
   "metadata": {
    "id": "rwgLBskPnCNU",
    "pycharm": {
     "name": "#%%\n"
    }
   },
   "execution_count": null,
   "outputs": []
  },
  {
   "cell_type": "code",
   "source": [
    "class TestDataset(Dataset):\n",
    "    def __init__(self, image_path, label_path, transform):\n",
    "        super().__init__()\n",
    "        self.image_path = image_path\n",
    "        self.label_path = label_path\n",
    "        self.transform = transform\n",
    "\n",
    "    def __len__(self):\n",
    "        return len(self.image_path)\n",
    "    \n",
    "    def __getitem__(self, idx):\n",
    "        image = self.image_path[idx]\n",
    "        label = self.label_path[idx]\n",
    "        image = Image.open(image).convert(\"RGB\")\n",
    "        if self.transform:\n",
    "            image = self.transform(image)\n",
    "        return image, torch.tensor(label).int()\n",
    "\n",
    "\n",
    "def test(image_path, label_path, batch_size=32):\n",
    "    overall_model = SEDense18(num_class=max(label_path)+1).cuda()\n",
    "    states = torch.load(\"new_model_checkpoint.pt\", map_location=lambda storage, loc: storage)\n",
    "    overall_model.load_state_dict(states)\n",
    "    overall_model.eval()\n",
    "    transform = transforms.Compose([\n",
    "        transforms.Resize((128, 64)),  \n",
    "        transforms.ToTensor(),\n",
    "        transforms.Normalize(mean=(0.5, 0.5, 0.5), std=(0.5, 0.5, 0.5)),                          \n",
    "    ])\n",
    "    test_dataset = TestDataset(image_path, label_path, transform)\n",
    "    dataloader = DataLoaderX(test_dataset, batch_size, num_workers=4, pin_memory=True)\n",
    "    acc = 0\n",
    "    with torch.no_grad():\n",
    "        iterator = tqdm(dataloader)\n",
    "        for sample in iterator:\n",
    "            image, label = sample\n",
    "            image, label = image.cuda(), label.cuda()\n",
    "            prediction = torch.argmax(overall_model(image), dim=1)\n",
    "            acc += torch.count_nonzero(torch.eq(prediction, label))\n",
    "    acc = acc / len(image_path)\n",
    "    return acc\n",
    "\n",
    "\n",
    "def test2(image_path, label_path, batch_size=32):\n",
    "    overall_model = SEDense18_IBN(num_class=max(label_path)+1).cuda()\n",
    "    states = torch.load(\"SE18_IBN_checkpoint.pt\", map_location=lambda storage, loc: storage)\n",
    "    overall_model.load_state_dict(states)\n",
    "    overall_model.eval()\n",
    "    transform = transforms.Compose([\n",
    "        transforms.Resize((128, 64)),  \n",
    "        transforms.ToTensor(),\n",
    "        transforms.Normalize(mean=(0.5, 0.5, 0.5), std=(0.5, 0.5, 0.5)),                          \n",
    "    ])\n",
    "    test_dataset = TestDataset(image_path, label_path, transform)\n",
    "    dataloader = DataLoaderX(test_dataset, batch_size, num_workers=4, pin_memory=True)\n",
    "    acc = 0\n",
    "    with torch.no_grad():\n",
    "        iterator = tqdm(dataloader)\n",
    "        for sample in iterator:\n",
    "            image, label = sample\n",
    "            image, label = image.cuda(), label.cuda()\n",
    "            prediction = torch.argmax(overall_model(image)[0], dim=1)\n",
    "            acc += torch.count_nonzero(torch.eq(prediction, label))\n",
    "    acc = acc / len(image_path)\n",
    "    return acc\n",
    "\n",
    "\n",
    "\n",
    "def test_dataset(path=\"Market1501/bounding_box_train\"):\n",
    "    image_path = sorted(glob.glob(path + \"/*.jpg\"))\n",
    "    label_path = list(map(lambda x: int(x.split(\"/\")[-1][:4]), image_path))\n",
    "    label_path = relabel(label_path)\n",
    "    return image_path, label_path\n",
    "\n"
   ],
   "metadata": {
    "id": "hejnFZzYrrLE",
    "executionInfo": {
     "status": "ok",
     "timestamp": 1644596088899,
     "user_tz": 300,
     "elapsed": 127,
     "user": {
      "displayName": "胡明哲",
      "photoUrl": "https://lh3.googleusercontent.com/a/default-user=s64",
      "userId": "14614187422162607500"
     }
    },
    "pycharm": {
     "name": "#%%\n"
    }
   },
   "execution_count": 32,
   "outputs": []
  },
  {
   "cell_type": "code",
   "source": [
    "image_path_test, label_path_test = test_dataset()\n",
    "# acc = test(image_path_test, label_path_test)\n",
    "acc = test2(image_path_test, label_path_test)"
   ],
   "metadata": {
    "colab": {
     "base_uri": "https://localhost:8080/"
    },
    "id": "N9TCnuOiYtSk",
    "executionInfo": {
     "status": "ok",
     "timestamp": 1644596116971,
     "user_tz": 300,
     "elapsed": 26389,
     "user": {
      "displayName": "胡明哲",
      "photoUrl": "https://lh3.googleusercontent.com/a/default-user=s64",
      "userId": "14614187422162607500"
     }
    },
    "outputId": "7f7bd2ac-09c2-4472-a7b8-945ab9392ec1",
    "pycharm": {
     "name": "#%%\n"
    }
   },
   "execution_count": 33,
   "outputs": [
    {
     "output_type": "stream",
     "name": "stderr",
     "text": [
      "/usr/local/lib/python3.7/dist-packages/torch/utils/data/dataloader.py:481: UserWarning: This DataLoader will create 4 worker processes in total. Our suggested max number of worker in current system is 2, which is smaller than what this DataLoader is going to create. Please be aware that excessive worker creation might get DataLoader running slow or even freeze, lower the worker number to avoid potential slowness/freeze if necessary.\n",
      "  cpuset_checked))\n",
      "100%|██████████| 405/405 [00:25<00:00, 15.73it/s]\n"
     ]
    }
   ]
  },
  {
   "cell_type": "code",
   "source": [
    "acc.item()"
   ],
   "metadata": {
    "colab": {
     "base_uri": "https://localhost:8080/"
    },
    "id": "PS5w2U0cmW3Y",
    "executionInfo": {
     "status": "ok",
     "timestamp": 1644596119516,
     "user_tz": 300,
     "elapsed": 316,
     "user": {
      "displayName": "胡明哲",
      "photoUrl": "https://lh3.googleusercontent.com/a/default-user=s64",
      "userId": "14614187422162607500"
     }
    },
    "outputId": "380ab71a-9c31-43b8-ce0f-964bee90e481",
    "pycharm": {
     "name": "#%%\n"
    }
   },
   "execution_count": 34,
   "outputs": [
    {
     "output_type": "execute_result",
     "data": {
      "text/plain": [
       "0.9946660995483398"
      ]
     },
     "metadata": {},
     "execution_count": 34
    }
   ]
  },
  {
   "cell_type": "markdown",
   "source": [
    "Check the dissimilarity of the features. I want to know \n",
    "if my margin is convincing."
   ],
   "metadata": {
    "id": "HEZ8XWZLw9Gh",
    "pycharm": {
     "name": "#%% md\n"
    }
   }
  },
  {
   "cell_type": "code",
   "source": [
    "def dot_product(v1, v2):\n",
    "    return sum(map(lambda x: x[0] * x[1], zip(v1, v2)))\n",
    "\n",
    "def cosine_measure(v1, v2):\n",
    "    prod = dot_product(v1, v2)\n",
    "    len1 = math.sqrt(dot_product(v1, v1))\n",
    "    len2 = math.sqrt(dot_product(v2, v2))\n",
    "    return prod / (len1 * len2)\n",
    "\n",
    "\n",
    "def feature_acquisition(embed_model, image_path, label_path, batch_size=32):\n",
    "    transform = transforms.Compose([\n",
    "        transforms.Resize((128, 64)),  \n",
    "        transforms.ToTensor(),\n",
    "        transforms.Normalize(mean=(0.5, 0.5, 0.5), std=(0.5, 0.5, 0.5)),                                      \n",
    "    ])\n",
    "    dataset = TestDataset(image_path, label_path, transform)\n",
    "    features = list()\n",
    "    labels = list()\n",
    "    torch.cuda.synchronize()\n",
    "    with torch.no_grad():\n",
    "        dataloader = DataLoaderX(dataset, batch_size, False, num_workers=4, pin_memory=True)\n",
    "        iterator = tqdm(dataloader)\n",
    "        for image, label in iterator:\n",
    "            image, label = image.cuda(), label.cuda()\n",
    "            feature = embed_model(image)\n",
    "            features.append(feature.detach().cpu().numpy())\n",
    "            labels.append(label.detach().cpu().numpy())\n",
    "        features = np.concatenate(features, axis=0)\n",
    "        labels = np.concatenate(labels, axis=0)\n",
    "    return features, labels\n",
    "\n",
    "\n",
    "def check_dissimilarity(features, labels):\n",
    "    max_dis_same = 0.\n",
    "    min_dis_diff = 1.\n",
    "    dissimilarity_score = defaultdict(list)\n",
    "    for idx, feature_x in enumerate(features):\n",
    "        for idy, feature_y in enumerate(features):\n",
    "            if idy <= idx:\n",
    "                continue\n",
    "            cosine_sim = cosine_measure(feature_x, feature_y)\n",
    "            if labels[idx] == labels[idy]:\n",
    "                dissimilarity_score[0].append(1 - cosine_sim)\n",
    "                max_dis_same = max(max_dis_same, cosine_sim)\n",
    "            else:\n",
    "                dissimilarity_score[1].append(1 - cosine_sim)\n",
    "                min_dis_diff = min(min_dis_diff, cosine_sim)\n",
    "    return dissimilarity_score, max_dis_same, min_dis_diff\n"
   ],
   "metadata": {
    "id": "900EOvjjw8rj",
    "pycharm": {
     "name": "#%%\n"
    }
   },
   "execution_count": null,
   "outputs": []
  },
  {
   "cell_type": "code",
   "source": [
    "image_path, label_path = test_dataset(\"Market1501/bounding_box_test\")"
   ],
   "metadata": {
    "id": "jPCDrH3n43Pz",
    "pycharm": {
     "name": "#%%\n"
    }
   },
   "execution_count": null,
   "outputs": []
  },
  {
   "cell_type": "code",
   "source": [
    "features, labels = feature_acquisition(embed_model, image_path, label_path)"
   ],
   "metadata": {
    "colab": {
     "base_uri": "https://localhost:8080/"
    },
    "id": "u36rhRaoB26_",
    "executionInfo": {
     "status": "ok",
     "timestamp": 1644111719771,
     "user_tz": 300,
     "elapsed": 151848,
     "user": {
      "displayName": "胡明哲",
      "photoUrl": "https://lh3.googleusercontent.com/a/default-user=s64",
      "userId": "14614187422162607500"
     }
    },
    "outputId": "2e9c464c-eb39-48d2-bfc3-3685c06d1374",
    "pycharm": {
     "name": "#%%\n"
    }
   },
   "execution_count": null,
   "outputs": [
    {
     "output_type": "stream",
     "name": "stderr",
     "text": [
      "/usr/local/lib/python3.7/dist-packages/torch/utils/data/dataloader.py:481: UserWarning: This DataLoader will create 4 worker processes in total. Our suggested max number of worker in current system is 2, which is smaller than what this DataLoader is going to create. Please be aware that excessive worker creation might get DataLoader running slow or even freeze, lower the worker number to avoid potential slowness/freeze if necessary.\n",
      "  cpuset_checked))\n",
      "100%|██████████| 410/410 [02:31<00:00,  2.70it/s]\n"
     ]
    }
   ]
  },
  {
   "cell_type": "code",
   "source": [
    "torch.cuda.empty_cache()"
   ],
   "metadata": {
    "id": "DGpgIBuwNv6j",
    "pycharm": {
     "name": "#%%\n"
    }
   },
   "execution_count": null,
   "outputs": []
  },
  {
   "cell_type": "code",
   "source": [
    "idx = random.randint(0, len(image_path))\n",
    "idy = random.randint(0, len(image_path))\n",
    "# features_stacked = np.stack((features[idx], features[idy]))\n",
    "dis_sim = 1 - cosine_measure(features[idx], features[idy])\n",
    "# dis_sim = np.sum(np.abs(features[idx] - features[idy]) / features_stacked.std())\n",
    "print(image_path[idx], image_path[idy], dis_sim, labels[idx] == labels[idy])\n",
    "\n",
    "sameIdx, sameIdy = 1, 2\n",
    "dis_sim = 1 - cosine_measure(features[sameIdx], features[sameIdy])\n",
    "# features_stacked = np.stack((features[1], features[2]))\n",
    "# dis_sim = np.sum(np.abs(features[1] - features[2]) / features_stacked.std())\n",
    "print(image_path[sameIdx], image_path[sameIdy], dis_sim, labels[sameIdx] == labels[sameIdy])"
   ],
   "metadata": {
    "colab": {
     "base_uri": "https://localhost:8080/"
    },
    "id": "K6KNQIuFaUWX",
    "executionInfo": {
     "status": "ok",
     "timestamp": 1644111743069,
     "user_tz": 300,
     "elapsed": 81,
     "user": {
      "displayName": "胡明哲",
      "photoUrl": "https://lh3.googleusercontent.com/a/default-user=s64",
      "userId": "14614187422162607500"
     }
    },
    "outputId": "417f5c6e-a437-4272-eb7c-b067035903c1",
    "pycharm": {
     "name": "#%%\n"
    }
   },
   "execution_count": null,
   "outputs": [
    {
     "output_type": "stream",
     "name": "stdout",
     "text": [
      "Market1501/bounding_box_test/1170_c6s3_027467_01.jpg Market1501/bounding_box_test/0846_c3s2_107353_01.jpg 0.7972683483749926 False\n",
      "Market1501/bounding_box_test/0001_c1s1_002301_02.jpg Market1501/bounding_box_test/0001_c1s1_002401_02.jpg 0.12410911555463244 True\n"
     ]
    }
   ]
  },
  {
   "cell_type": "code",
   "source": [
    "# Let me calculate the distance between different feature vectors\n",
    "idx = random.randint(0, len(image_path))\n",
    "idy = random.randint(0, len(image_path))\n",
    "dis1 = np.sqrt(np.sum((features[idx] - features[idy]) ** 2))\n",
    "dis2 = np.sqrt(np.sum((features[sameIdx] - features[sameIdy]) ** 2))\n",
    "print(\"Different labels\", dis1)\n",
    "print(\"Same labels\", dis2)"
   ],
   "metadata": {
    "colab": {
     "base_uri": "https://localhost:8080/"
    },
    "id": "QdkJWqfmg5eN",
    "executionInfo": {
     "status": "ok",
     "timestamp": 1644111747676,
     "user_tz": 300,
     "elapsed": 81,
     "user": {
      "displayName": "胡明哲",
      "photoUrl": "https://lh3.googleusercontent.com/a/default-user=s64",
      "userId": "14614187422162607500"
     }
    },
    "outputId": "98d1b72a-87c0-4886-ce79-bf3d4d69e7c4",
    "pycharm": {
     "name": "#%%\n"
    }
   },
   "execution_count": null,
   "outputs": [
    {
     "output_type": "stream",
     "name": "stdout",
     "text": [
      "Different labels 81.54003\n",
      "Same labels 30.359818\n"
     ]
    }
   ]
  },
  {
   "cell_type": "code",
   "source": [
    "print(image_path[idx], image_path[idy])"
   ],
   "metadata": {
    "colab": {
     "base_uri": "https://localhost:8080/"
    },
    "id": "vsH0jITotcoe",
    "executionInfo": {
     "status": "ok",
     "timestamp": 1644011335747,
     "user_tz": 300,
     "elapsed": 4,
     "user": {
      "displayName": "胡明哲",
      "photoUrl": "https://lh3.googleusercontent.com/a/default-user=s64",
      "userId": "14614187422162607500"
     }
    },
    "outputId": "87e9646a-2b8e-45ee-cc7c-7bdb8f529a6f",
    "pycharm": {
     "name": "#%%\n"
    }
   },
   "execution_count": null,
   "outputs": [
    {
     "output_type": "stream",
     "name": "stdout",
     "text": [
      "Market1501/bounding_box_test/1059_c3s2_148819_06.jpg Market1501/bounding_box_test/0924_c3s2_115144_02.jpg\n"
     ]
    }
   ]
  },
  {
   "cell_type": "code",
   "source": [
    "# This will take humongous time to run\n",
    "scores, max_dis_same, min_dis_diff = check_dissimilarity(features, labels)"
   ],
   "metadata": {
    "id": "qTefWuCFNrhX",
    "pycharm": {
     "name": "#%%\n"
    }
   },
   "execution_count": null,
   "outputs": []
  },
  {
   "cell_type": "code",
   "source": [
    "print(\"max_dis_same is\", max_dis_same)\n",
    "print(\"min_dis_diff is\", min_dis_diff)"
   ],
   "metadata": {
    "id": "9UGjGoQh5VuL",
    "pycharm": {
     "name": "#%%\n"
    }
   },
   "execution_count": null,
   "outputs": []
  },
  {
   "cell_type": "code",
   "source": [
    "# the loss function should consider the pose\n",
    "# Intuitively, we can set the loss function = 0.5 * contrastive loss + 0.5 * pose difference\n",
    "# check the pose difference in manhattan distance\n",
    "\n",
    "\n",
    "pose_image_path = sorted(glob.glob(\"Market1501/bounding_box_test_pose/*.jpg\"))\n",
    "pose_image_path = list(filter(lambda x: x.split(\"/\")[-1][0] != \"-\" and x.split(\"/\")[-1][:4] != \"0000\", pose_image_path))\n",
    "pose1 = transforms.ToTensor()(Image.open(pose_image_path[0]).convert(\"L\")).squeeze().numpy()\n",
    "pose2 = transforms.ToTensor()(Image.open(pose_image_path[1]).convert(\"L\")).squeeze().numpy()\n",
    "pose3 = transforms.ToTensor()(Image.open(pose_image_path[2]).convert(\"L\")).squeeze().numpy()\n",
    "print(\"Difference between {} and {} image pose is {}\".format(pose_image_path[0].split(\"/\")[-1], pose_image_path[1].split(\"/\")[-1], abs(pose1.sum() - pose2.sum())))\n",
    "print(\"Difference between {} and {} image pose is {}\".format(pose_image_path[1].split(\"/\")[-1], pose_image_path[2].split(\"/\")[-1], abs(pose2.sum() - pose3.sum())))"
   ],
   "metadata": {
    "colab": {
     "base_uri": "https://localhost:8080/"
    },
    "id": "DbVcYksA-YFp",
    "executionInfo": {
     "status": "ok",
     "timestamp": 1643951224442,
     "user_tz": 300,
     "elapsed": 5384,
     "user": {
      "displayName": "胡明哲",
      "photoUrl": "https://lh3.googleusercontent.com/a/default-user=s64",
      "userId": "14614187422162607500"
     }
    },
    "outputId": "091fd6a3-20a2-49fa-9e00-c3c545760a23",
    "pycharm": {
     "name": "#%%\n"
    }
   },
   "execution_count": null,
   "outputs": [
    {
     "output_type": "stream",
     "name": "stdout",
     "text": [
      "Difference between 0001_c1s1_001051_03_rendered.jpg and 0001_c1s1_002301_02_rendered.jpg image pose is 41.8156852722168\n",
      "Difference between 0001_c1s1_002301_02_rendered.jpg and 0001_c1s1_002401_02_rendered.jpg image pose is 5.450984954833984\n"
     ]
    }
   ]
  }
 ]
}