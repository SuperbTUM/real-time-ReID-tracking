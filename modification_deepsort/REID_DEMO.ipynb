{
  "nbformat": 4,
  "nbformat_minor": 0,
  "metadata": {
    "colab": {
      "name": "REID_DEMO.ipynb",
      "provenance": [],
      "collapsed_sections": []
    },
    "kernelspec": {
      "name": "python3",
      "display_name": "Python 3"
    },
    "language_info": {
      "name": "python"
    },
    "accelerator": "GPU",
    "widgets": {
      "application/vnd.jupyter.widget-state+json": {
        "33b274604c7744319539cf83cd67b941": {
          "model_module": "@jupyter-widgets/controls",
          "model_name": "HBoxModel",
          "model_module_version": "1.5.0",
          "state": {
            "_view_name": "HBoxView",
            "_dom_classes": [],
            "_model_name": "HBoxModel",
            "_view_module": "@jupyter-widgets/controls",
            "_model_module_version": "1.5.0",
            "_view_count": null,
            "_view_module_version": "1.5.0",
            "box_style": "",
            "layout": "IPY_MODEL_0c881a11cebe452db944c8dbb314c69a",
            "_model_module": "@jupyter-widgets/controls",
            "children": [
              "IPY_MODEL_49b95b41332d426ea16bd541bc4d91ab",
              "IPY_MODEL_7c9efa618fe44e0b82968f02eba72146",
              "IPY_MODEL_8ff2cfc901b54863afa2ac72cb44d921"
            ]
          }
        },
        "0c881a11cebe452db944c8dbb314c69a": {
          "model_module": "@jupyter-widgets/base",
          "model_name": "LayoutModel",
          "model_module_version": "1.2.0",
          "state": {
            "_view_name": "LayoutView",
            "grid_template_rows": null,
            "right": null,
            "justify_content": null,
            "_view_module": "@jupyter-widgets/base",
            "overflow": null,
            "_model_module_version": "1.2.0",
            "_view_count": null,
            "flex_flow": null,
            "width": null,
            "min_width": null,
            "border": null,
            "align_items": null,
            "bottom": null,
            "_model_module": "@jupyter-widgets/base",
            "top": null,
            "grid_column": null,
            "overflow_y": null,
            "overflow_x": null,
            "grid_auto_flow": null,
            "grid_area": null,
            "grid_template_columns": null,
            "flex": null,
            "_model_name": "LayoutModel",
            "justify_items": null,
            "grid_row": null,
            "max_height": null,
            "align_content": null,
            "visibility": null,
            "align_self": null,
            "height": null,
            "min_height": null,
            "padding": null,
            "grid_auto_rows": null,
            "grid_gap": null,
            "max_width": null,
            "order": null,
            "_view_module_version": "1.2.0",
            "grid_template_areas": null,
            "object_position": null,
            "object_fit": null,
            "grid_auto_columns": null,
            "margin": null,
            "display": null,
            "left": null
          }
        },
        "49b95b41332d426ea16bd541bc4d91ab": {
          "model_module": "@jupyter-widgets/controls",
          "model_name": "HTMLModel",
          "model_module_version": "1.5.0",
          "state": {
            "_view_name": "HTMLView",
            "style": "IPY_MODEL_6fd3b4d09d74436c92198dbb07e6e127",
            "_dom_classes": [],
            "description": "",
            "_model_name": "HTMLModel",
            "placeholder": "​",
            "_view_module": "@jupyter-widgets/controls",
            "_model_module_version": "1.5.0",
            "value": "100%",
            "_view_count": null,
            "_view_module_version": "1.5.0",
            "description_tooltip": null,
            "_model_module": "@jupyter-widgets/controls",
            "layout": "IPY_MODEL_4274cb88413248e3a2817b643c6a357d"
          }
        },
        "7c9efa618fe44e0b82968f02eba72146": {
          "model_module": "@jupyter-widgets/controls",
          "model_name": "FloatProgressModel",
          "model_module_version": "1.5.0",
          "state": {
            "_view_name": "ProgressView",
            "style": "IPY_MODEL_efc7c20253984659a825db15fa43944e",
            "_dom_classes": [],
            "description": "",
            "_model_name": "FloatProgressModel",
            "bar_style": "success",
            "max": 46830571,
            "_view_module": "@jupyter-widgets/controls",
            "_model_module_version": "1.5.0",
            "value": 46830571,
            "_view_count": null,
            "_view_module_version": "1.5.0",
            "orientation": "horizontal",
            "min": 0,
            "description_tooltip": null,
            "_model_module": "@jupyter-widgets/controls",
            "layout": "IPY_MODEL_d47cd228e4f24403b6790643fd618f56"
          }
        },
        "8ff2cfc901b54863afa2ac72cb44d921": {
          "model_module": "@jupyter-widgets/controls",
          "model_name": "HTMLModel",
          "model_module_version": "1.5.0",
          "state": {
            "_view_name": "HTMLView",
            "style": "IPY_MODEL_10bf83c32e264ea48e893209232c6cbb",
            "_dom_classes": [],
            "description": "",
            "_model_name": "HTMLModel",
            "placeholder": "​",
            "_view_module": "@jupyter-widgets/controls",
            "_model_module_version": "1.5.0",
            "value": " 44.7M/44.7M [00:00&lt;00:00, 73.7MB/s]",
            "_view_count": null,
            "_view_module_version": "1.5.0",
            "description_tooltip": null,
            "_model_module": "@jupyter-widgets/controls",
            "layout": "IPY_MODEL_f5ffad72af1248c8ac593c0024b15fa4"
          }
        },
        "6fd3b4d09d74436c92198dbb07e6e127": {
          "model_module": "@jupyter-widgets/controls",
          "model_name": "DescriptionStyleModel",
          "model_module_version": "1.5.0",
          "state": {
            "_view_name": "StyleView",
            "_model_name": "DescriptionStyleModel",
            "description_width": "",
            "_view_module": "@jupyter-widgets/base",
            "_model_module_version": "1.5.0",
            "_view_count": null,
            "_view_module_version": "1.2.0",
            "_model_module": "@jupyter-widgets/controls"
          }
        },
        "4274cb88413248e3a2817b643c6a357d": {
          "model_module": "@jupyter-widgets/base",
          "model_name": "LayoutModel",
          "model_module_version": "1.2.0",
          "state": {
            "_view_name": "LayoutView",
            "grid_template_rows": null,
            "right": null,
            "justify_content": null,
            "_view_module": "@jupyter-widgets/base",
            "overflow": null,
            "_model_module_version": "1.2.0",
            "_view_count": null,
            "flex_flow": null,
            "width": null,
            "min_width": null,
            "border": null,
            "align_items": null,
            "bottom": null,
            "_model_module": "@jupyter-widgets/base",
            "top": null,
            "grid_column": null,
            "overflow_y": null,
            "overflow_x": null,
            "grid_auto_flow": null,
            "grid_area": null,
            "grid_template_columns": null,
            "flex": null,
            "_model_name": "LayoutModel",
            "justify_items": null,
            "grid_row": null,
            "max_height": null,
            "align_content": null,
            "visibility": null,
            "align_self": null,
            "height": null,
            "min_height": null,
            "padding": null,
            "grid_auto_rows": null,
            "grid_gap": null,
            "max_width": null,
            "order": null,
            "_view_module_version": "1.2.0",
            "grid_template_areas": null,
            "object_position": null,
            "object_fit": null,
            "grid_auto_columns": null,
            "margin": null,
            "display": null,
            "left": null
          }
        },
        "efc7c20253984659a825db15fa43944e": {
          "model_module": "@jupyter-widgets/controls",
          "model_name": "ProgressStyleModel",
          "model_module_version": "1.5.0",
          "state": {
            "_view_name": "StyleView",
            "_model_name": "ProgressStyleModel",
            "description_width": "",
            "_view_module": "@jupyter-widgets/base",
            "_model_module_version": "1.5.0",
            "_view_count": null,
            "_view_module_version": "1.2.0",
            "bar_color": null,
            "_model_module": "@jupyter-widgets/controls"
          }
        },
        "d47cd228e4f24403b6790643fd618f56": {
          "model_module": "@jupyter-widgets/base",
          "model_name": "LayoutModel",
          "model_module_version": "1.2.0",
          "state": {
            "_view_name": "LayoutView",
            "grid_template_rows": null,
            "right": null,
            "justify_content": null,
            "_view_module": "@jupyter-widgets/base",
            "overflow": null,
            "_model_module_version": "1.2.0",
            "_view_count": null,
            "flex_flow": null,
            "width": null,
            "min_width": null,
            "border": null,
            "align_items": null,
            "bottom": null,
            "_model_module": "@jupyter-widgets/base",
            "top": null,
            "grid_column": null,
            "overflow_y": null,
            "overflow_x": null,
            "grid_auto_flow": null,
            "grid_area": null,
            "grid_template_columns": null,
            "flex": null,
            "_model_name": "LayoutModel",
            "justify_items": null,
            "grid_row": null,
            "max_height": null,
            "align_content": null,
            "visibility": null,
            "align_self": null,
            "height": null,
            "min_height": null,
            "padding": null,
            "grid_auto_rows": null,
            "grid_gap": null,
            "max_width": null,
            "order": null,
            "_view_module_version": "1.2.0",
            "grid_template_areas": null,
            "object_position": null,
            "object_fit": null,
            "grid_auto_columns": null,
            "margin": null,
            "display": null,
            "left": null
          }
        },
        "10bf83c32e264ea48e893209232c6cbb": {
          "model_module": "@jupyter-widgets/controls",
          "model_name": "DescriptionStyleModel",
          "model_module_version": "1.5.0",
          "state": {
            "_view_name": "StyleView",
            "_model_name": "DescriptionStyleModel",
            "description_width": "",
            "_view_module": "@jupyter-widgets/base",
            "_model_module_version": "1.5.0",
            "_view_count": null,
            "_view_module_version": "1.2.0",
            "_model_module": "@jupyter-widgets/controls"
          }
        },
        "f5ffad72af1248c8ac593c0024b15fa4": {
          "model_module": "@jupyter-widgets/base",
          "model_name": "LayoutModel",
          "model_module_version": "1.2.0",
          "state": {
            "_view_name": "LayoutView",
            "grid_template_rows": null,
            "right": null,
            "justify_content": null,
            "_view_module": "@jupyter-widgets/base",
            "overflow": null,
            "_model_module_version": "1.2.0",
            "_view_count": null,
            "flex_flow": null,
            "width": null,
            "min_width": null,
            "border": null,
            "align_items": null,
            "bottom": null,
            "_model_module": "@jupyter-widgets/base",
            "top": null,
            "grid_column": null,
            "overflow_y": null,
            "overflow_x": null,
            "grid_auto_flow": null,
            "grid_area": null,
            "grid_template_columns": null,
            "flex": null,
            "_model_name": "LayoutModel",
            "justify_items": null,
            "grid_row": null,
            "max_height": null,
            "align_content": null,
            "visibility": null,
            "align_self": null,
            "height": null,
            "min_height": null,
            "padding": null,
            "grid_auto_rows": null,
            "grid_gap": null,
            "max_width": null,
            "order": null,
            "_view_module_version": "1.2.0",
            "grid_template_areas": null,
            "object_position": null,
            "object_fit": null,
            "grid_auto_columns": null,
            "margin": null,
            "display": null,
            "left": null
          }
        }
      }
    }
  },
  "cells": [
    {
      "cell_type": "code",
      "execution_count": 1,
      "metadata": {
        "colab": {
          "base_uri": "https://localhost:8080/"
        },
        "id": "YHPNQ0C7YNtv",
        "outputId": "9a394592-94e3-4e99-e499-19f59410b6df"
      },
      "outputs": [
        {
          "output_type": "stream",
          "name": "stdout",
          "text": [
            "Mounted at /content/drive\n",
            "/content/drive/My Drive/Neural Network & Deep Learning\n"
          ]
        }
      ],
      "source": [
        "from google.colab import drive\n",
        "drive.mount(\"/content/drive\")\n",
        "%cd /content/drive/My Drive/Neural Network & Deep Learning/"
      ]
    },
    {
      "cell_type": "code",
      "source": [
        "import torch\n",
        "import torch.nn.functional as F\n",
        "import glob\n",
        "import random\n",
        "from torchsummary import summary\n",
        "import torch.nn as nn\n",
        "from torchvision import models, transforms\n",
        "from torch.utils.data import Dataset, DataLoader\n",
        "from tqdm import tqdm\n",
        "import matplotlib.pyplot as plt\n",
        "from prefetch_generator import BackgroundGenerator\n",
        "from torch.autograd import Variable\n",
        "import torch.backends.cudnn as cudnn\n",
        "from collections import defaultdict\n",
        "from math import sqrt\n",
        "from functools import reduce\n",
        "import numpy as np\n",
        "import math\n",
        "from PIL import Image\n",
        "cudnn.enabled = True\n",
        "cudnn.benchmark = True"
      ],
      "metadata": {
        "id": "JBYyFpqWd1Gq"
      },
      "execution_count": 3,
      "outputs": []
    },
    {
      "cell_type": "code",
      "source": [
        "class DataLoaderX(DataLoader):\n",
        "    def __iter__(self):\n",
        "        return BackgroundGenerator(super().__iter__())"
      ],
      "metadata": {
        "id": "pdXgZkalEtYT"
      },
      "execution_count": 4,
      "outputs": []
    },
    {
      "cell_type": "code",
      "source": [
        "class SEBlock(nn.Module):\n",
        "    def __init__(self, c_in):\n",
        "        super().__init__()\n",
        "        self.globalavgpooling = nn.AdaptiveAvgPool2d(1)\n",
        "        self.fc1 = nn.Linear(c_in, max(1, c_in // 16))\n",
        "        self.relu = nn.ReLU(inplace=True)\n",
        "        self.fc2 = nn.Linear(max(1, c_in // 16), c_in)\n",
        "        self.sigmoid = nn.Sigmoid()\n",
        "        self.c_in = c_in\n",
        "    \n",
        "    def forward(self, x):\n",
        "        assert self.c_in == x.size(1)\n",
        "        x = self.globalavgpooling(x)\n",
        "        x = x.squeeze()\n",
        "        x = self.fc1(x)\n",
        "        x = self.relu(x)\n",
        "        x = self.fc2(x)\n",
        "        x = x.unsqueeze(-1).unsqueeze(-1)\n",
        "        x = self.sigmoid(x)\n",
        "        return x\n",
        "\n",
        "\n",
        "class SEDense18(nn.Module):\n",
        "    def __init__(self, num_class=751, needs_norm=True, is_reid=False):\n",
        "        super().__init__()\n",
        "        model = models.resnet18(pretrained=True)\n",
        "        self.conv0 = model.conv1\n",
        "        self.bn0 = model.bn1\n",
        "        self.relu0 = model.relu\n",
        "        self.pooling0 = model.maxpool\n",
        "        self.basicBlock11 = model.layer1[0]\n",
        "        self.seblock1 = SEBlock(64)\n",
        "\n",
        "        self.basicBlock12 = model.layer1[1]\n",
        "        self.seblock2 = SEBlock(64)\n",
        "\n",
        "        self.basicBlock21 = model.layer2[0]\n",
        "        self.seblock3 = SEBlock(128)\n",
        "        self.ancillaryconv3 = nn.Conv2d(64, 128, 1, 2, 0)\n",
        "        self.optionalNorm2dconv3 = nn.BatchNorm2d(128)\n",
        "\n",
        "        self.basicBlock22 = model.layer2[1]\n",
        "        self.seblock4 = SEBlock(128)\n",
        "\n",
        "        self.basicBlock31 = model.layer3[0]\n",
        "        self.seblock5 = SEBlock(256)\n",
        "        self.ancillaryconv5 = nn.Conv2d(128, 256, 1, 2, 0)\n",
        "        self.optionalNorm2dconv5 = nn.BatchNorm2d(256)\n",
        "\n",
        "        self.basicBlock32 = model.layer3[1]\n",
        "        self.seblock6 = SEBlock(256)\n",
        "\n",
        "        self.basicBlock41 = model.layer4[0]\n",
        "        self.seblock7 = SEBlock(512)\n",
        "        self.ancillaryconv7 = nn.Conv2d(256, 512, 1, 2, 0)\n",
        "        self.optionalNorm2dconv7 = nn.BatchNorm2d(512)\n",
        "\n",
        "        self.basicBlock42 = model.layer4[1]\n",
        "        self.seblock8 = SEBlock(512)\n",
        "\n",
        "        self.avgpooling = model.avgpool\n",
        "        # self.fc = nn.Linear(512, num_class)\n",
        "        self.classifier = nn.Sequential(\n",
        "            nn.Linear(512, 256),\n",
        "            nn.BatchNorm1d(256),\n",
        "            nn.ReLU(inplace=True),\n",
        "            nn.Dropout(),\n",
        "            nn.Linear(256, num_class),\n",
        "        )\n",
        "        self.needs_norm = needs_norm\n",
        "        self.is_reid = is_reid\n",
        "    \n",
        "    def forward(self, x):\n",
        "        x = self.conv0(x)\n",
        "        x = self.bn0(x)\n",
        "        x = self.relu0(x)\n",
        "        x = self.pooling0(x)\n",
        "        branch1 = x\n",
        "        x = self.basicBlock11(x)\n",
        "        scale1 = self.seblock1(x)\n",
        "        x = scale1 * x + branch1\n",
        "\n",
        "        branch2 = x\n",
        "        x = self.basicBlock12(x)\n",
        "        scale2 = self.seblock2(x)\n",
        "        x = scale2 * x + branch2\n",
        "\n",
        "        branch3 = x\n",
        "        x = self.basicBlock21(x)\n",
        "        scale3 = self.seblock3(x)\n",
        "        if self.needs_norm:\n",
        "            x = scale3 * x + self.optionalNorm2dconv3(self.ancillaryconv3(branch3))\n",
        "        else:\n",
        "            x = scale3 * x + self.ancillaryconv3(branch3)\n",
        "\n",
        "        branch4 = x\n",
        "        x = self.basicBlock22(x)\n",
        "        scale4 = self.seblock4(x)\n",
        "        x = scale4 * x + branch4\n",
        "\n",
        "        branch5 = x\n",
        "        x = self.basicBlock31(x)\n",
        "        scale5 = self.seblock5(x)\n",
        "        if self.needs_norm:\n",
        "            x = scale5 * x + self.optionalNorm2dconv5(self.ancillaryconv5(branch5))\n",
        "        else:\n",
        "            x = scale5 * x + self.ancillaryconv5(branch5)\n",
        "\n",
        "        branch6 = x\n",
        "        x = self.basicBlock32(x)\n",
        "        scale6 = self.seblock6(x)\n",
        "        x = scale6 * x + branch6\n",
        "\n",
        "        branch7 = x\n",
        "        x = self.basicBlock41(x)\n",
        "        scale7 = self.seblock7(x)\n",
        "        if self.needs_norm:\n",
        "            x = scale7 * x + self.optionalNorm2dconv7(self.ancillaryconv7(branch7))\n",
        "        else:\n",
        "            x = scale7 * x + self.ancillaryconv7(branch7)\n",
        "\n",
        "        branch8 = x\n",
        "        x = self.basicBlock42(x)\n",
        "        scale8 = self.seblock8(x)\n",
        "        x = scale8 * x + branch8\n",
        "\n",
        "        x = self.avgpooling(x)\n",
        "        x = x.view(x.size(0), -1)\n",
        "        if self.is_reid:\n",
        "            return x\n",
        "        x = self.classifier(x)\n",
        "\n",
        "        return x\n",
        "\n",
        "my_model = SEDense18().cuda()\n",
        "summary(my_model, input_size=(3, 128, 64))"
      ],
      "metadata": {
        "colab": {
          "base_uri": "https://localhost:8080/",
          "height": 1000,
          "referenced_widgets": [
            "33b274604c7744319539cf83cd67b941",
            "0c881a11cebe452db944c8dbb314c69a",
            "49b95b41332d426ea16bd541bc4d91ab",
            "7c9efa618fe44e0b82968f02eba72146",
            "8ff2cfc901b54863afa2ac72cb44d921",
            "6fd3b4d09d74436c92198dbb07e6e127",
            "4274cb88413248e3a2817b643c6a357d",
            "efc7c20253984659a825db15fa43944e",
            "d47cd228e4f24403b6790643fd618f56",
            "10bf83c32e264ea48e893209232c6cbb",
            "f5ffad72af1248c8ac593c0024b15fa4"
          ]
        },
        "id": "wcgXv43eYkAu",
        "outputId": "cb6d2f73-34aa-46b6-e695-8e79e385d0e9"
      },
      "execution_count": 5,
      "outputs": [
        {
          "output_type": "stream",
          "name": "stderr",
          "text": [
            "Downloading: \"https://download.pytorch.org/models/resnet18-f37072fd.pth\" to /root/.cache/torch/hub/checkpoints/resnet18-f37072fd.pth\n"
          ]
        },
        {
          "output_type": "display_data",
          "data": {
            "application/vnd.jupyter.widget-view+json": {
              "model_id": "33b274604c7744319539cf83cd67b941",
              "version_minor": 0,
              "version_major": 2
            },
            "text/plain": [
              "  0%|          | 0.00/44.7M [00:00<?, ?B/s]"
            ]
          },
          "metadata": {}
        },
        {
          "output_type": "stream",
          "name": "stdout",
          "text": [
            "----------------------------------------------------------------\n",
            "        Layer (type)               Output Shape         Param #\n",
            "================================================================\n",
            "            Conv2d-1           [-1, 64, 64, 32]           9,408\n",
            "       BatchNorm2d-2           [-1, 64, 64, 32]             128\n",
            "              ReLU-3           [-1, 64, 64, 32]               0\n",
            "         MaxPool2d-4           [-1, 64, 32, 16]               0\n",
            "            Conv2d-5           [-1, 64, 32, 16]          36,864\n",
            "       BatchNorm2d-6           [-1, 64, 32, 16]             128\n",
            "              ReLU-7           [-1, 64, 32, 16]               0\n",
            "            Conv2d-8           [-1, 64, 32, 16]          36,864\n",
            "       BatchNorm2d-9           [-1, 64, 32, 16]             128\n",
            "             ReLU-10           [-1, 64, 32, 16]               0\n",
            "       BasicBlock-11           [-1, 64, 32, 16]               0\n",
            "AdaptiveAvgPool2d-12             [-1, 64, 1, 1]               0\n",
            "           Linear-13                    [-1, 4]             260\n",
            "             ReLU-14                    [-1, 4]               0\n",
            "           Linear-15                   [-1, 64]             320\n",
            "          Sigmoid-16             [-1, 64, 1, 1]               0\n",
            "          SEBlock-17             [-1, 64, 1, 1]               0\n",
            "           Conv2d-18           [-1, 64, 32, 16]          36,864\n",
            "      BatchNorm2d-19           [-1, 64, 32, 16]             128\n",
            "             ReLU-20           [-1, 64, 32, 16]               0\n",
            "           Conv2d-21           [-1, 64, 32, 16]          36,864\n",
            "      BatchNorm2d-22           [-1, 64, 32, 16]             128\n",
            "             ReLU-23           [-1, 64, 32, 16]               0\n",
            "       BasicBlock-24           [-1, 64, 32, 16]               0\n",
            "AdaptiveAvgPool2d-25             [-1, 64, 1, 1]               0\n",
            "           Linear-26                    [-1, 4]             260\n",
            "             ReLU-27                    [-1, 4]               0\n",
            "           Linear-28                   [-1, 64]             320\n",
            "          Sigmoid-29             [-1, 64, 1, 1]               0\n",
            "          SEBlock-30             [-1, 64, 1, 1]               0\n",
            "           Conv2d-31           [-1, 128, 16, 8]          73,728\n",
            "      BatchNorm2d-32           [-1, 128, 16, 8]             256\n",
            "             ReLU-33           [-1, 128, 16, 8]               0\n",
            "           Conv2d-34           [-1, 128, 16, 8]         147,456\n",
            "      BatchNorm2d-35           [-1, 128, 16, 8]             256\n",
            "           Conv2d-36           [-1, 128, 16, 8]           8,192\n",
            "      BatchNorm2d-37           [-1, 128, 16, 8]             256\n",
            "             ReLU-38           [-1, 128, 16, 8]               0\n",
            "       BasicBlock-39           [-1, 128, 16, 8]               0\n",
            "AdaptiveAvgPool2d-40            [-1, 128, 1, 1]               0\n",
            "           Linear-41                    [-1, 8]           1,032\n",
            "             ReLU-42                    [-1, 8]               0\n",
            "           Linear-43                  [-1, 128]           1,152\n",
            "          Sigmoid-44            [-1, 128, 1, 1]               0\n",
            "          SEBlock-45            [-1, 128, 1, 1]               0\n",
            "           Conv2d-46           [-1, 128, 16, 8]           8,320\n",
            "      BatchNorm2d-47           [-1, 128, 16, 8]             256\n",
            "           Conv2d-48           [-1, 128, 16, 8]         147,456\n",
            "      BatchNorm2d-49           [-1, 128, 16, 8]             256\n",
            "             ReLU-50           [-1, 128, 16, 8]               0\n",
            "           Conv2d-51           [-1, 128, 16, 8]         147,456\n",
            "      BatchNorm2d-52           [-1, 128, 16, 8]             256\n",
            "             ReLU-53           [-1, 128, 16, 8]               0\n",
            "       BasicBlock-54           [-1, 128, 16, 8]               0\n",
            "AdaptiveAvgPool2d-55            [-1, 128, 1, 1]               0\n",
            "           Linear-56                    [-1, 8]           1,032\n",
            "             ReLU-57                    [-1, 8]               0\n",
            "           Linear-58                  [-1, 128]           1,152\n",
            "          Sigmoid-59            [-1, 128, 1, 1]               0\n",
            "          SEBlock-60            [-1, 128, 1, 1]               0\n",
            "           Conv2d-61            [-1, 256, 8, 4]         294,912\n",
            "      BatchNorm2d-62            [-1, 256, 8, 4]             512\n",
            "             ReLU-63            [-1, 256, 8, 4]               0\n",
            "           Conv2d-64            [-1, 256, 8, 4]         589,824\n",
            "      BatchNorm2d-65            [-1, 256, 8, 4]             512\n",
            "           Conv2d-66            [-1, 256, 8, 4]          32,768\n",
            "      BatchNorm2d-67            [-1, 256, 8, 4]             512\n",
            "             ReLU-68            [-1, 256, 8, 4]               0\n",
            "       BasicBlock-69            [-1, 256, 8, 4]               0\n",
            "AdaptiveAvgPool2d-70            [-1, 256, 1, 1]               0\n",
            "           Linear-71                   [-1, 16]           4,112\n",
            "             ReLU-72                   [-1, 16]               0\n",
            "           Linear-73                  [-1, 256]           4,352\n",
            "          Sigmoid-74            [-1, 256, 1, 1]               0\n",
            "          SEBlock-75            [-1, 256, 1, 1]               0\n",
            "           Conv2d-76            [-1, 256, 8, 4]          33,024\n",
            "      BatchNorm2d-77            [-1, 256, 8, 4]             512\n",
            "           Conv2d-78            [-1, 256, 8, 4]         589,824\n",
            "      BatchNorm2d-79            [-1, 256, 8, 4]             512\n",
            "             ReLU-80            [-1, 256, 8, 4]               0\n",
            "           Conv2d-81            [-1, 256, 8, 4]         589,824\n",
            "      BatchNorm2d-82            [-1, 256, 8, 4]             512\n",
            "             ReLU-83            [-1, 256, 8, 4]               0\n",
            "       BasicBlock-84            [-1, 256, 8, 4]               0\n",
            "AdaptiveAvgPool2d-85            [-1, 256, 1, 1]               0\n",
            "           Linear-86                   [-1, 16]           4,112\n",
            "             ReLU-87                   [-1, 16]               0\n",
            "           Linear-88                  [-1, 256]           4,352\n",
            "          Sigmoid-89            [-1, 256, 1, 1]               0\n",
            "          SEBlock-90            [-1, 256, 1, 1]               0\n",
            "           Conv2d-91            [-1, 512, 4, 2]       1,179,648\n",
            "      BatchNorm2d-92            [-1, 512, 4, 2]           1,024\n",
            "             ReLU-93            [-1, 512, 4, 2]               0\n",
            "           Conv2d-94            [-1, 512, 4, 2]       2,359,296\n",
            "      BatchNorm2d-95            [-1, 512, 4, 2]           1,024\n",
            "           Conv2d-96            [-1, 512, 4, 2]         131,072\n",
            "      BatchNorm2d-97            [-1, 512, 4, 2]           1,024\n",
            "             ReLU-98            [-1, 512, 4, 2]               0\n",
            "       BasicBlock-99            [-1, 512, 4, 2]               0\n",
            "AdaptiveAvgPool2d-100            [-1, 512, 1, 1]               0\n",
            "          Linear-101                   [-1, 32]          16,416\n",
            "            ReLU-102                   [-1, 32]               0\n",
            "          Linear-103                  [-1, 512]          16,896\n",
            "         Sigmoid-104            [-1, 512, 1, 1]               0\n",
            "         SEBlock-105            [-1, 512, 1, 1]               0\n",
            "          Conv2d-106            [-1, 512, 4, 2]         131,584\n",
            "     BatchNorm2d-107            [-1, 512, 4, 2]           1,024\n",
            "          Conv2d-108            [-1, 512, 4, 2]       2,359,296\n",
            "     BatchNorm2d-109            [-1, 512, 4, 2]           1,024\n",
            "            ReLU-110            [-1, 512, 4, 2]               0\n",
            "          Conv2d-111            [-1, 512, 4, 2]       2,359,296\n",
            "     BatchNorm2d-112            [-1, 512, 4, 2]           1,024\n",
            "            ReLU-113            [-1, 512, 4, 2]               0\n",
            "      BasicBlock-114            [-1, 512, 4, 2]               0\n",
            "AdaptiveAvgPool2d-115            [-1, 512, 1, 1]               0\n",
            "          Linear-116                   [-1, 32]          16,416\n",
            "            ReLU-117                   [-1, 32]               0\n",
            "          Linear-118                  [-1, 512]          16,896\n",
            "         Sigmoid-119            [-1, 512, 1, 1]               0\n",
            "         SEBlock-120            [-1, 512, 1, 1]               0\n",
            "AdaptiveAvgPool2d-121            [-1, 512, 1, 1]               0\n",
            "          Linear-122                  [-1, 256]         131,328\n",
            "     BatchNorm1d-123                  [-1, 256]             512\n",
            "            ReLU-124                  [-1, 256]               0\n",
            "         Dropout-125                  [-1, 256]               0\n",
            "          Linear-126                  [-1, 751]         193,007\n",
            "================================================================\n",
            "Total params: 11,765,159\n",
            "Trainable params: 11,765,159\n",
            "Non-trainable params: 0\n",
            "----------------------------------------------------------------\n",
            "Input size (MB): 0.09\n",
            "Forward/backward pass size (MB): 10.77\n",
            "Params size (MB): 44.88\n",
            "Estimated Total Size (MB): 55.74\n",
            "----------------------------------------------------------------\n"
          ]
        }
      ]
    },
    {
      "cell_type": "code",
      "source": [
        "class MyDataset(Dataset):\n",
        "    def __init__(self, image_path, pose_path, label_path, transform):\n",
        "        super().__init__()\n",
        "        self.image_path = image_path\n",
        "        self.pose_path = pose_path\n",
        "        self.label_path = label_path\n",
        "        self.transform = transform\n",
        "    \n",
        "    def __len__(self):\n",
        "        return len(self.image_path)\n",
        "    \n",
        "    def __getitem__(self, idx):\n",
        "        image1 = self.image_path[idx]\n",
        "        pose1 = self.pose_path[idx]\n",
        "        random_index = random.choice([i for i in range(len(self.image_path)) if i != idx])\n",
        "        image2 = self.image_path[random_index]\n",
        "        pose2 = self.pose_path[random_index]\n",
        "        relative_label = 0 if self.label_path[idx] == self.label_path[random_index] else 1\n",
        "        absolute_label = self.label_path[idx]\n",
        "        image1 = Image.open(image1).convert(\"RGB\")\n",
        "        image2 = Image.open(image2).convert(\"RGB\")\n",
        "        pose1 = transforms.ToTensor()(Image.open(pose1).convert(\"L\"))\n",
        "        pose2 = transforms.ToTensor()(Image.open(pose2).convert(\"L\"))\n",
        "        if self.transform:\n",
        "            image1 = self.transform(image1)\n",
        "            image2 = self.transform(image2)\n",
        "        relative_label = torch.tensor(relative_label).int()\n",
        "        absolute_label = torch.tensor(absolute_label).int()\n",
        "        return image1, image2, pose1, pose2, relative_label, absolute_label\n",
        "\n",
        "\n",
        "def relabel(label_set):\n",
        "    label = 0\n",
        "    latest_label = label_set[0]\n",
        "    new_label_set = list()\n",
        "    for cur_label in label_set:\n",
        "        if cur_label != latest_label:\n",
        "            label += 1\n",
        "            latest_label = cur_label\n",
        "        new_label_set.append(label)\n",
        "    return new_label_set"
      ],
      "metadata": {
        "id": "O8nJr2Q1dwhh"
      },
      "execution_count": 6,
      "outputs": []
    },
    {
      "cell_type": "code",
      "source": [
        "# this happens within batch\n",
        "# could we have anchor images? -> maybe we need to switch to triplet loss\n",
        "\n",
        "\n",
        "class ContrastiveLossGoogle(nn.Module):\n",
        "    def __init__(self, batch_size, temperature=0.5):\n",
        "        super().__init__()\n",
        "        self.batch_size = batch_size\n",
        "        self.register_buffer(\"temperature\", torch.tensor(temperature))\n",
        "        self.register_buffer(\"negatives_mask\", (~torch.eye(batch_size * 2, batch_size * 2, dtype=bool)).float())\n",
        "            \n",
        "    def forward(self, emb_i, emb_j):\n",
        "        \"\"\"\n",
        "        emb_i and emb_j are batches of embeddings, where corresponding indices are pairs\n",
        "        z_i, z_j as per SimCLR paper\n",
        "        \"\"\"\n",
        "        z_i = F.normalize(emb_i, dim=1)\n",
        "        z_j = F.normalize(emb_j, dim=1)\n",
        "\n",
        "        representations = torch.cat([z_i, z_j], dim=0)\n",
        "        similarity_matrix = F.cosine_similarity(representations.unsqueeze(1), representations.unsqueeze(0), dim=2)\n",
        "        \n",
        "        sim_ij = torch.diag(similarity_matrix, self.batch_size)\n",
        "        sim_ji = torch.diag(similarity_matrix, -self.batch_size)\n",
        "        positives = torch.cat([sim_ij, sim_ji], dim=0)\n",
        "        \n",
        "        nominator = torch.exp(positives / self.temperature)\n",
        "        denominator = self.negatives_mask * torch.exp(similarity_matrix / self.temperature)\n",
        "    \n",
        "        loss_partial = -torch.log(nominator / torch.sum(denominator, dim=1))\n",
        "        loss = torch.sum(loss_partial) / (2 * self.batch_size)\n",
        "        return loss\n"
      ],
      "metadata": {
        "id": "2balSilIatnc"
      },
      "execution_count": 7,
      "outputs": []
    },
    {
      "cell_type": "code",
      "source": [
        "class contrastiveLoss(nn.Module):\n",
        "    \"\"\"\n",
        "    Contrastive loss function.\n",
        "    Based on: http://yann.lecun.com/exdb/publis/pdf/hadsell-chopra-lecun-06.pdf\n",
        "    \"\"\"\n",
        "\n",
        "    def __init__(self, margin=20.0):\n",
        "        super(contrastiveLoss, self).__init__()\n",
        "        self.margin = margin\n",
        "\n",
        "    def forward(self, output1, output2, label):\n",
        "        euclidean_distance = F.pairwise_distance(output1, output2, keepdim = True)\n",
        "        loss_contrastive = torch.mean((1-label) * torch.pow(euclidean_distance, 2) +\n",
        "                                      (label) * torch.pow(torch.clamp(self.margin - euclidean_distance, min=0.0), 2))\n",
        "        return loss_contrastive\n",
        "\n",
        "\n",
        "class LabelSmoothing(nn.Module):\n",
        "    \"\"\" NLL loss with label smoothing. \"\"\"\n",
        "\n",
        "    def __init__(self, smoothing=0.1):\n",
        "        \"\"\" Constructor for the LabelSmoothing module.\n",
        "        :param smoothing: label smoothing factor \"\"\"\n",
        "        super(LabelSmoothing, self).__init__()\n",
        "        self.confidence = 1.0 - smoothing\n",
        "        self.smoothing = smoothing\n",
        "\n",
        "    def forward(self, x, target):\n",
        "        logprobs = torch.nn.functional.log_softmax(x, dim=-1)\n",
        "        target = target.long()\n",
        "        nll_loss = -logprobs.gather(dim=-1, index=target.unsqueeze(1))\n",
        "        nll_loss = nll_loss.squeeze(1)\n",
        "        smooth_loss = -logprobs.mean(dim=-1)\n",
        "        loss = self.confidence * nll_loss + self.smoothing * smooth_loss\n",
        "        return loss.mean()"
      ],
      "metadata": {
        "id": "D4tuCWA77Kbb"
      },
      "execution_count": 8,
      "outputs": []
    },
    {
      "cell_type": "markdown",
      "source": [
        "I find it hard to do strict contrastive training since for the same person, there may be pose issues."
      ],
      "metadata": {
        "id": "LM58WQta-KaX"
      }
    },
    {
      "cell_type": "code",
      "source": [
        "class PoseLoss(nn.Module):\n",
        "    def __init__(self, margin=None):\n",
        "        super().__init__()\n",
        "    \n",
        "    def forward(self, pose1, pose2):\n",
        "        return torch.log(torch.clamp(torch.abs(torch.sum(pose1) - torch.sum(pose2)), 0.) + 1e-6)\n",
        "\n",
        "class HybridLoss(nn.Module):\n",
        "    def __init__(self, margin=20.0):\n",
        "        super().__init__()\n",
        "        self.contrastive = contrastiveLoss(margin)\n",
        "        self.pose = PoseLoss()\n",
        "    \n",
        "    def forward(self, feature1, feature2, label, pose1, pose2):\n",
        "        return 0.5 * self.contrastive(feature1, feature2, label) + 0.5 * self.pose(pose1, pose2)"
      ],
      "metadata": {
        "id": "v2m11AsaA0s1"
      },
      "execution_count": 9,
      "outputs": []
    },
    {
      "cell_type": "code",
      "source": [
        "def training_strategy(num_classes):\n",
        "    # The followings are used for training the embedding network\n",
        "    embedding = SEDense18(num_class=num_classes, is_reid=True).cuda()\n",
        "    # loss_function_embedding = contrastiveLoss(margin=300)\n",
        "    loss_function_embedding = HybridLoss(margin=200)\n",
        "    optimizer_embedding = torch.optim.Adam(embedding.parameters(), lr=0.01, weight_decay=5e-4)\n",
        "    lr_scheduler_embedding = torch.optim.lr_scheduler.StepLR(optimizer_embedding, step_size=2000, gamma=0.5)\n",
        "    # The followings are used for training the classification network\n",
        "    classifier = embedding.classifier\n",
        "    loss_function_classifier = LabelSmoothing()\n",
        "    optimizer_classifier = torch.optim.Adam(classifier.parameters(), lr=0.01, weight_decay=5e-4)\n",
        "    lr_scheduler_classifier = torch.optim.lr_scheduler.StepLR(optimizer_classifier, step_size=2000, gamma=0.5)\n",
        "    return embedding, loss_function_embedding, optimizer_embedding, lr_scheduler_embedding, \\\n",
        "        classifier, loss_function_classifier, optimizer_classifier, lr_scheduler_classifier\n"
      ],
      "metadata": {
        "id": "HvTLDxqL0xqP"
      },
      "execution_count": 10,
      "outputs": []
    },
    {
      "cell_type": "code",
      "source": [
        "from torch.utils.data.dataset import TensorDataset\n",
        "\n",
        "\n",
        "def train(image_path, pose_path, label_path, num_class, epochs=10, batch_size=32):\n",
        "    transform = transforms.Compose([\n",
        "        transforms.Resize((128, 64)),\n",
        "        transforms.RandomHorizontalFlip(),\n",
        "        transforms.ToTensor(),\n",
        "        transforms.Normalize(mean=(0.5, 0.5, 0.5), std=(0.5, 0.5, 0.5)),\n",
        "        transforms.RandomErasing(),                           \n",
        "    ])\n",
        "    losses_embed = list()\n",
        "    losses_class = list()\n",
        "    embed_model, loss_embed, optim_embed, lr_embed, class_model, loss_class, optim_class, lr_class = training_strategy(num_class)\n",
        "    embed_model.train()\n",
        "    for epoch in range(epochs):\n",
        "        reid_dataset = MyDataset(image_path, pose_path, label_path, transform)\n",
        "        dataloader = DataLoaderX(reid_dataset, batch_size, True, num_workers=4, pin_memory=True)\n",
        "        iterator = tqdm(dataloader)\n",
        "        for sample in iterator:\n",
        "            optim_embed.zero_grad()\n",
        "            image1, image2, pose1, pose2, labels, _ = sample\n",
        "            image1 = image1.cuda()\n",
        "            image2 = image2.cuda()\n",
        "            labels = labels.cuda()\n",
        "            feature1 = embed_model(image1)\n",
        "            feature2 = embed_model(image2)\n",
        "            loss = loss_embed(feature1, feature2, labels, pose1, pose2)\n",
        "            losses_embed.append(loss.item() / batch_size)\n",
        "            loss.backward()\n",
        "            nn.utils.clip_grad_norm_(embed_model.parameters(), 10.)\n",
        "            optim_embed.step()\n",
        "            lr_embed.step()\n",
        "            status = \"epoch: {}, lr: {:.4f}, loss: {:.5f}\".format(epoch, lr_embed.get_last_lr()[0], loss.item() / batch_size)\n",
        "            iterator.set_description(status)\n",
        "    # Once the training is completed, do the inference to obtain the embeddings\n",
        "    embed_model = embed_model.eval()\n",
        "    feature_set = list()\n",
        "    label_set = list()\n",
        "    with torch.no_grad():\n",
        "        dataloader_inference = DataLoaderX(reid_dataset, batch_size, num_workers=4, pin_memory=True)\n",
        "        print(\"Start Inferencing..................\")\n",
        "        for sample in tqdm(dataloader_inference):\n",
        "            image1, _, _, _, _, labels = sample\n",
        "            image1 = image1.cuda()\n",
        "            feature1 = embed_model(image1)\n",
        "            feature_set.append(feature1.detach().cpu())\n",
        "            label_set.append(labels.detach().cpu())\n",
        "    feature_set = torch.cat(feature_set, dim=0)\n",
        "    label_set = torch.cat(label_set, dim=0)\n",
        "    classDataset = TensorDataset(feature_set, label_set)\n",
        "\n",
        "    class_model.train()\n",
        "    for epoch in range(1):\n",
        "        dataloader = DataLoaderX(classDataset, batch_size, True, num_workers=4, pin_memory=True)\n",
        "        iterator = tqdm(dataloader)\n",
        "        for sample in iterator:\n",
        "            optim_class.zero_grad()\n",
        "            embed, label = sample\n",
        "            embed = embed.cuda()\n",
        "            label = label.cuda()\n",
        "            prediction = class_model(embed)\n",
        "            loss = loss_class(prediction, label)\n",
        "            losses_class.append(loss.item() / batch_size)\n",
        "            loss.backward()\n",
        "            nn.utils.clip_grad_norm_(class_model.parameters(), 10.)\n",
        "            optim_class.step()\n",
        "            lr_class.step()\n",
        "            status = \"epoch: {}, lr: {:.4f}, loss: {:.5f}\".format(epoch, lr_embed.get_last_lr()[0], loss.item() / batch_size)\n",
        "            iterator.set_description(status)\n",
        "    class_model = class_model.eval()\n",
        "    return embed_model, class_model, losses_embed, losses_class\n",
        "\n",
        "\n",
        "def plot_losses(losses_embed, losses_class):\n",
        "    plt.figure()\n",
        "    plt.plot(losses_embed, linewidth=2, color=\"r\", label=\"embedding loss\")\n",
        "    plt.plot(losses_class, linewidth=2, color=\"b\", label=\"classifier loss\")\n",
        "    plt.xlabel(\"iterations\")\n",
        "    plt.ylabel(\"loss value\")\n",
        "    plt.title(\"loss functions\")\n",
        "    plt.legend()\n",
        "    plt.grid()\n",
        "    plt.show()"
      ],
      "metadata": {
        "id": "yWmKaFCGFDjd"
      },
      "execution_count": 11,
      "outputs": []
    },
    {
      "cell_type": "code",
      "source": [
        "image_path = sorted(glob.glob(\"Market1501/bounding_box_train/*.jpg\"))\n",
        "pose_path = sorted(glob.glob(\"Market1501/bounding_box_train_pose/*.png\"))\n",
        "label_path = list(map(lambda x: int(x.split(\"/\")[-1][:4]), image_path))\n",
        "label_path = relabel(label_path)\n",
        "print(max(label_path))\n",
        "assert len(image_path) == len(pose_path)"
      ],
      "metadata": {
        "colab": {
          "base_uri": "https://localhost:8080/"
        },
        "id": "1Od8mXAKJt-M",
        "outputId": "673b7560-5058-44a6-b436-2ae64f81c388"
      },
      "execution_count": 16,
      "outputs": [
        {
          "output_type": "stream",
          "name": "stdout",
          "text": [
            "750\n"
          ]
        }
      ]
    },
    {
      "cell_type": "code",
      "source": [
        "embed_model, class_model, losses_embed, losses_cls = train(image_path, pose_path, label_path, max(label_path)+1, 10)\n",
        "plot_losses(losses_embed, losses_cls)"
      ],
      "metadata": {
        "colab": {
          "base_uri": "https://localhost:8080/",
          "height": 582
        },
        "id": "rljuxyPlO3Js",
        "outputId": "d54787df-84f0-4161-ce0d-d170e0b5da23"
      },
      "execution_count": 17,
      "outputs": [
        {
          "output_type": "stream",
          "name": "stderr",
          "text": [
            "/usr/local/lib/python3.7/dist-packages/torch/utils/data/dataloader.py:481: UserWarning: This DataLoader will create 4 worker processes in total. Our suggested max number of worker in current system is 2, which is smaller than what this DataLoader is going to create. Please be aware that excessive worker creation might get DataLoader running slow or even freeze, lower the worker number to avoid potential slowness/freeze if necessary.\n",
            "  cpuset_checked))\n",
            "epoch: 0, lr: 0.0100, loss: 12.79590: 100%|██████████| 405/405 [12:17<00:00,  1.82s/it]\n",
            "epoch: 1, lr: 0.0100, loss: 0.86376: 100%|██████████| 405/405 [01:19<00:00,  5.12it/s]\n",
            "epoch: 2, lr: 0.0100, loss: 0.72658: 100%|██████████| 405/405 [01:19<00:00,  5.11it/s]\n",
            "epoch: 3, lr: 0.0100, loss: 0.05107: 100%|██████████| 405/405 [01:19<00:00,  5.11it/s]\n",
            "epoch: 4, lr: 0.0050, loss: 0.04159: 100%|██████████| 405/405 [01:19<00:00,  5.06it/s]\n",
            "epoch: 5, lr: 0.0050, loss: 0.02392: 100%|██████████| 405/405 [01:19<00:00,  5.07it/s]\n",
            "epoch: 6, lr: 0.0050, loss: 3.56168: 100%|██████████| 405/405 [01:19<00:00,  5.07it/s]\n",
            "epoch: 7, lr: 0.0050, loss: 0.05902: 100%|██████████| 405/405 [01:19<00:00,  5.07it/s]\n",
            "epoch: 8, lr: 0.0050, loss: 0.06279: 100%|██████████| 405/405 [01:24<00:00,  4.78it/s]\n",
            "epoch: 9, lr: 0.0025, loss: 1.99773: 100%|██████████| 405/405 [01:19<00:00,  5.10it/s]\n"
          ]
        },
        {
          "output_type": "stream",
          "name": "stdout",
          "text": [
            "Start Inferencing..................\n"
          ]
        },
        {
          "output_type": "stream",
          "name": "stderr",
          "text": [
            "100%|██████████| 405/405 [01:04<00:00,  6.29it/s]\n",
            "epoch: 0, lr: 0.0025, loss: 0.20301: 100%|██████████| 405/405 [00:03<00:00, 120.78it/s]\n"
          ]
        },
        {
          "output_type": "display_data",
          "data": {
            "image/png": "[encoded data removed]",
            "text/plain": [
              "<Figure size 432x288 with 1 Axes>"
            ]
          },
          "metadata": {
            "needs_background": "light"
          }
        }
      ]
    },
    {
      "cell_type": "markdown",
      "source": [
        "Overall test on image labelling"
      ],
      "metadata": {
        "id": "nKXahSHinFPP"
      }
    },
    {
      "cell_type": "code",
      "source": [
        "from collections import OrderedDict\n",
        "\n",
        "\n",
        "overall_model = SEDense18().cuda()\n",
        "overall_model.load_state_dict(embed_model.state_dict(), strict=False)\n",
        "for key in class_model.state_dict():\n",
        "    new_key = \"classifier.\" + key\n",
        "    class_model.state_dict()[new_key] = class_model.state_dict()[key].clone()\n",
        "overall_model.load_state_dict(class_model.state_dict(), strict=False)\n",
        "# traced_models = torch.jit.trace(overall_model, torch.randn((1,3,128,64)).to(\"cuda\"))\n",
        "# torch.jit.save(traced_models, \"new_model_checkpoint_traced.pt\")\n",
        "torch.save(overall_model.state_dict(), \"new_model_checkpoint.pt\")"
      ],
      "metadata": {
        "id": "rwgLBskPnCNU"
      },
      "execution_count": 18,
      "outputs": []
    },
    {
      "cell_type": "code",
      "source": [
        "class TestDataset(Dataset):\n",
        "    def __init__(self, image_path, label_path, transform):\n",
        "        super().__init__()\n",
        "        self.image_path = image_path\n",
        "        self.label_path = label_path\n",
        "        self.transform = transform\n",
        "\n",
        "    def __len__(self):\n",
        "        return len(self.image_path)\n",
        "    \n",
        "    def __getitem__(self, idx):\n",
        "        image = self.image_path[idx]\n",
        "        label = self.label_path[idx]\n",
        "        image = Image.open(image).convert(\"RGB\")\n",
        "        if self.transform:\n",
        "            image = self.transform(image)\n",
        "        return image, torch.tensor(label).int()\n",
        "\n",
        "\n",
        "def test(image_path, label_path, batch_size=32):\n",
        "    overall_model = SEDense18(num_class=max(label_path)+1).cuda()\n",
        "    states = torch.load(\"new_model_checkpoint.pt\", map_location=lambda storage, loc: storage)\n",
        "    overall_model.load_state_dict(states)\n",
        "    overall_model.eval()\n",
        "    transform = transforms.Compose([\n",
        "        transforms.Resize((128, 64)),  \n",
        "        transforms.ToTensor(),\n",
        "        transforms.Normalize(mean=(0.5, 0.5, 0.5), std=(0.5, 0.5, 0.5)),                          \n",
        "    ])\n",
        "    test_dataset = TestDataset(image_path, label_path, transform)\n",
        "    dataloader = DataLoaderX(test_dataset, batch_size, num_workers=4, pin_memory=True)\n",
        "    acc = 0\n",
        "    with torch.no_grad():\n",
        "        iterator = tqdm(dataloader)\n",
        "        for sample in iterator:\n",
        "            image, label = sample\n",
        "            image, label = image.cuda(), label.cuda()\n",
        "            prediction = torch.argmax(overall_model(image), dim=1)\n",
        "            acc += torch.count_nonzero(torch.eq(prediction, label))\n",
        "    acc = acc / len(image_path)\n",
        "    return acc\n",
        "\n",
        "def test_dataset(path=\"Market1501/bounding_box_train\"):\n",
        "    image_path = sorted(glob.glob(path + \"/*.jpg\"))\n",
        "    label_path = list(map(lambda x: int(x.split(\"/\")[-1][:4]), image_path))\n",
        "    label_path = relabel(label_path)\n",
        "    return image_path, label_path\n",
        "\n"
      ],
      "metadata": {
        "id": "hejnFZzYrrLE"
      },
      "execution_count": 19,
      "outputs": []
    },
    {
      "cell_type": "code",
      "source": [
        "image_path_test, label_path_test = test_dataset()\n",
        "acc = test(image_path_test, label_path_test)"
      ],
      "metadata": {
        "colab": {
          "base_uri": "https://localhost:8080/"
        },
        "id": "N9TCnuOiYtSk",
        "outputId": "a1b091ed-b36a-46c7-d651-7caf4a716958"
      },
      "execution_count": null,
      "outputs": [
        {
          "output_type": "stream",
          "name": "stderr",
          "text": [
            "/usr/local/lib/python3.7/dist-packages/torch/utils/data/dataloader.py:481: UserWarning: This DataLoader will create 4 worker processes in total. Our suggested max number of worker in current system is 2, which is smaller than what this DataLoader is going to create. Please be aware that excessive worker creation might get DataLoader running slow or even freeze, lower the worker number to avoid potential slowness/freeze if necessary.\n",
            "  cpuset_checked))\n",
            "100%|██████████| 405/405 [00:24<00:00, 16.74it/s]\n"
          ]
        }
      ]
    },
    {
      "cell_type": "code",
      "source": [
        "acc.item()"
      ],
      "metadata": {
        "colab": {
          "base_uri": "https://localhost:8080/"
        },
        "id": "PS5w2U0cmW3Y",
        "outputId": "dfe63366-97b3-4c2f-a237-b656761072f4"
      },
      "execution_count": null,
      "outputs": [
        {
          "output_type": "execute_result",
          "data": {
            "text/plain": [
              "0.022649969905614853"
            ]
          },
          "metadata": {},
          "execution_count": 40
        }
      ]
    },
    {
      "cell_type": "markdown",
      "source": [
        "Check the dissimilarity of the features. I want to know \n",
        "if my margin is convincing."
      ],
      "metadata": {
        "id": "HEZ8XWZLw9Gh"
      }
    },
    {
      "cell_type": "code",
      "source": [
        "def dot_product(v1, v2):\n",
        "    return sum(map(lambda x: x[0] * x[1], zip(v1, v2)))\n",
        "\n",
        "def cosine_measure(v1, v2):\n",
        "    prod = dot_product(v1, v2)\n",
        "    len1 = math.sqrt(dot_product(v1, v1))\n",
        "    len2 = math.sqrt(dot_product(v2, v2))\n",
        "    return prod / (len1 * len2)\n",
        "\n",
        "\n",
        "def feature_acquisition(embed_model, image_path, label_path, batch_size=32):\n",
        "    transform = transforms.Compose([\n",
        "        transforms.Resize((128, 64)),  \n",
        "        transforms.ToTensor(),\n",
        "        transforms.Normalize(mean=(0.5, 0.5, 0.5), std=(0.5, 0.5, 0.5)),                                      \n",
        "    ])\n",
        "    dataset = TestDataset(image_path, label_path, transform)\n",
        "    features = list()\n",
        "    labels = list()\n",
        "    torch.cuda.synchronize()\n",
        "    with torch.no_grad():\n",
        "        dataloader = DataLoaderX(dataset, batch_size, False, num_workers=4, pin_memory=True)\n",
        "        iterator = tqdm(dataloader)\n",
        "        for image, label in iterator:\n",
        "            image, label = image.cuda(), label.cuda()\n",
        "            feature = embed_model(image)\n",
        "            features.append(feature.detach().cpu().numpy())\n",
        "            labels.append(label.detach().cpu().numpy())\n",
        "        features = np.concatenate(features, axis=0)\n",
        "        labels = np.concatenate(labels, axis=0)\n",
        "    return features, labels\n",
        "\n",
        "\n",
        "def check_dissimilarity(features, labels):\n",
        "    max_dis_same = 0.\n",
        "    min_dis_diff = 1.\n",
        "    dissimilarity_score = defaultdict(list)\n",
        "    for idx, feature_x in enumerate(features):\n",
        "        for idy, feature_y in enumerate(features):\n",
        "            if idy <= idx:\n",
        "                continue\n",
        "            cosine_sim = cosine_measure(feature_x, feature_y)\n",
        "            if labels[idx] == labels[idy]:\n",
        "                dissimilarity_score[0].append(1 - cosine_sim)\n",
        "                max_dis_same = max(max_dis_same, cosine_sim)\n",
        "            else:\n",
        "                dissimilarity_score[1].append(1 - cosine_sim)\n",
        "                min_dis_diff = min(min_dis_diff, cosine_sim)\n",
        "    return dissimilarity_score, max_dis_same, min_dis_diff\n"
      ],
      "metadata": {
        "id": "900EOvjjw8rj"
      },
      "execution_count": 20,
      "outputs": []
    },
    {
      "cell_type": "code",
      "source": [
        "image_path, label_path = test_dataset(\"Market1501/bounding_box_test\")"
      ],
      "metadata": {
        "id": "jPCDrH3n43Pz"
      },
      "execution_count": 21,
      "outputs": []
    },
    {
      "cell_type": "code",
      "source": [
        "features, labels = feature_acquisition(embed_model, image_path, label_path)"
      ],
      "metadata": {
        "colab": {
          "base_uri": "https://localhost:8080/"
        },
        "id": "u36rhRaoB26_",
        "outputId": "35ca1726-4b1f-459a-c678-2b84c7009186"
      },
      "execution_count": 22,
      "outputs": [
        {
          "output_type": "stream",
          "name": "stderr",
          "text": [
            "/usr/local/lib/python3.7/dist-packages/torch/utils/data/dataloader.py:481: UserWarning: This DataLoader will create 4 worker processes in total. Our suggested max number of worker in current system is 2, which is smaller than what this DataLoader is going to create. Please be aware that excessive worker creation might get DataLoader running slow or even freeze, lower the worker number to avoid potential slowness/freeze if necessary.\n",
            "  cpuset_checked))\n",
            "100%|██████████| 410/410 [02:27<00:00,  2.78it/s]\n"
          ]
        }
      ]
    },
    {
      "cell_type": "code",
      "source": [
        "torch.cuda.empty_cache()"
      ],
      "metadata": {
        "id": "DGpgIBuwNv6j"
      },
      "execution_count": 23,
      "outputs": []
    },
    {
      "cell_type": "code",
      "source": [
        "idx = random.randint(0, len(image_path))\n",
        "idy = random.randint(0, len(image_path))\n",
        "dis_sim = 1 - cosine_measure(features[idx], features[idy])\n",
        "# dis_sim = np.sqrt(np.sum((features[idx] - features[idy]) ** 2))\n",
        "print(image_path[idx], image_path[idy], dis_sim, labels[idx] == labels[idy])\n",
        "\n",
        "dis_sim = 1 - cosine_measure(features[1], features[2])\n",
        "# dis_sim = np.sqrt(np.sum((features[0] - features[1]) ** 2))\n",
        "print(image_path[0], image_path[1], dis_sim, labels[0] == labels[1])"
      ],
      "metadata": {
        "colab": {
          "base_uri": "https://localhost:8080/"
        },
        "id": "K6KNQIuFaUWX",
        "outputId": "4665f919-66dc-4268-cd01-6ac96f59e1ad"
      },
      "execution_count": 43,
      "outputs": [
        {
          "output_type": "stream",
          "name": "stdout",
          "text": [
            "Market1501/bounding_box_test/0467_c3s1_129883_03.jpg Market1501/bounding_box_test/0561_c4s3_020704_02.jpg 0.6569712384917745 False\n",
            "Market1501/bounding_box_test/0001_c1s1_001051_03.jpg Market1501/bounding_box_test/0001_c1s1_002301_02.jpg 0.5472896785567906 True\n"
          ]
        }
      ]
    },
    {
      "cell_type": "code",
      "source": [
        "# Let me calculate the distance between different feature vectors\n",
        "dis1 = np.sqrt(np.sum((features[idx] - features[idy]) ** 2))\n",
        "dis2 = np.sqrt(np.sum((features[0] - features[1]) ** 2))\n",
        "print(\"Different labels\", dis1)\n",
        "print(\"Same labels\", dis2)"
      ],
      "metadata": {
        "colab": {
          "base_uri": "https://localhost:8080/"
        },
        "id": "QdkJWqfmg5eN",
        "outputId": "94cd5ff1-7a6d-4c95-9963-823bd1e039c9"
      },
      "execution_count": 44,
      "outputs": [
        {
          "output_type": "stream",
          "name": "stdout",
          "text": [
            "Different labels 320.73816\n",
            "Same labels 266.7925\n"
          ]
        }
      ]
    },
    {
      "cell_type": "code",
      "source": [
        "# This will take humongous time to run\n",
        "scores, max_dis_same, min_dis_diff = check_dissimilarity(features, labels)"
      ],
      "metadata": {
        "id": "qTefWuCFNrhX"
      },
      "execution_count": null,
      "outputs": []
    },
    {
      "cell_type": "code",
      "source": [
        "print(\"max_dis_same is\", max_dis_same)\n",
        "print(\"min_dis_diff is\", min_dis_diff)"
      ],
      "metadata": {
        "id": "9UGjGoQh5VuL"
      },
      "execution_count": null,
      "outputs": []
    },
    {
      "cell_type": "code",
      "source": [
        "# the loss function should consider the pose\n",
        "# Intuitively, we can set the loss function = 0.5 * contrastive loss + 0.5 * pose difference\n",
        "# check the pose difference in manhattan distance\n",
        "\n",
        "\n",
        "pose_image_path = sorted(glob.glob(\"Market1501/bounding_box_test_pose/*.jpg\"))\n",
        "pose_image_path = list(filter(lambda x: x.split(\"/\")[-1][0] != \"-\" and x.split(\"/\")[-1][:4] != \"0000\", pose_image_path))\n",
        "pose1 = transforms.ToTensor()(Image.open(pose_image_path[0]).convert(\"L\")).squeeze().numpy()\n",
        "pose2 = transforms.ToTensor()(Image.open(pose_image_path[1]).convert(\"L\")).squeeze().numpy()\n",
        "pose3 = transforms.ToTensor()(Image.open(pose_image_path[2]).convert(\"L\")).squeeze().numpy()\n",
        "print(\"Difference between {} and {} image pose is {}\".format(pose_image_path[0].split(\"/\")[-1], pose_image_path[1].split(\"/\")[-1], abs(pose1.sum() - pose2.sum())))\n",
        "print(\"Difference between {} and {} image pose is {}\".format(pose_image_path[1].split(\"/\")[-1], pose_image_path[2].split(\"/\")[-1], abs(pose2.sum() - pose3.sum())))"
      ],
      "metadata": {
        "colab": {
          "base_uri": "https://localhost:8080/"
        },
        "id": "DbVcYksA-YFp",
        "outputId": "091fd6a3-20a2-49fa-9e00-c3c545760a23"
      },
      "execution_count": 24,
      "outputs": [
        {
          "output_type": "stream",
          "name": "stdout",
          "text": [
            "Difference between 0001_c1s1_001051_03_rendered.jpg and 0001_c1s1_002301_02_rendered.jpg image pose is 41.8156852722168\n",
            "Difference between 0001_c1s1_002301_02_rendered.jpg and 0001_c1s1_002401_02_rendered.jpg image pose is 5.450984954833984\n"
          ]
        }
      ]
    }
  ]
}