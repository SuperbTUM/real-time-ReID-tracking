{
 "cells": [
  {
   "cell_type": "code",
   "execution_count": 1,
   "metadata": {
    "pycharm": {
     "name": "#%%\n"
    }
   },
   "outputs": [],
   "source": [
    "import torch\n",
    "import torch.nn.functional as F\n",
    "import glob\n",
    "import random\n",
    "from torchsummary import summary\n",
    "import torch.nn as nn\n",
    "from torchvision import models, transforms\n",
    "from torch.utils.data import Dataset, DataLoader\n",
    "from tqdm import tqdm\n",
    "import matplotlib.pyplot as plt\n",
    "from prefetch_generator import BackgroundGenerator\n",
    "from torch.autograd import Variable\n",
    "import torch.backends.cudnn as cudnn\n",
    "from collections import defaultdict\n",
    "from math import sqrt\n",
    "from functools import reduce\n",
    "import numpy as np\n",
    "import math\n",
    "from PIL import Image\n",
    "from torchsummary import summary\n",
    "import time\n",
    "cudnn.enabled = True\n",
    "cudnn.benchmark = True"
   ]
  },
  {
   "cell_type": "code",
   "execution_count": 2,
   "metadata": {
    "pycharm": {
     "name": "#%%\n"
    }
   },
   "outputs": [],
   "source": [
    "class DataLoaderX(DataLoader):\n",
    "    def __iter__(self):\n",
    "        return BackgroundGenerator(super().__iter__())"
   ]
  },
  {
   "cell_type": "code",
   "execution_count": 3,
   "metadata": {
    "pycharm": {
     "name": "#%%\n"
    }
   },
   "outputs": [],
   "source": [
    "class SEBlock(nn.Module):\n",
    "    def __init__(self, c_in):\n",
    "        super().__init__()\n",
    "        self.globalavgpooling = nn.AdaptiveAvgPool2d(1)\n",
    "        self.fc1 = nn.Linear(c_in, max(1, c_in // 16))\n",
    "        self.relu = nn.ReLU(inplace=True)\n",
    "        self.fc2 = nn.Linear(max(1, c_in // 16), c_in)\n",
    "        self.sigmoid = nn.Sigmoid()\n",
    "        self.c_in = c_in\n",
    "    \n",
    "    def forward(self, x):\n",
    "        assert self.c_in == x.size(1)\n",
    "        x = self.globalavgpooling(x)\n",
    "        x = x.squeeze()\n",
    "        x = self.fc1(x)\n",
    "        x = self.relu(x)\n",
    "        x = self.fc2(x)\n",
    "        x = x.unsqueeze(-1).unsqueeze(-1)\n",
    "        x = self.sigmoid(x)\n",
    "        return x\n",
    "\n",
    "\n",
    "class IBN(nn.Module):\n",
    "    def __init__(self, in_channels, ratio=0.5):\n",
    "        \"\"\"\n",
    "        Some do instance norm, some do batch norm\n",
    "        \"\"\"\n",
    "        super().__init__()\n",
    "        self.in_channels = in_channels\n",
    "        self.ratio = ratio\n",
    "        self.half = int(self.in_channels * ratio)\n",
    "        self.IN = nn.InstanceNorm2d(self.half, affine=True)\n",
    "        self.BN = nn.BatchNorm2d(self.in_channels - self.half)\n",
    "    \n",
    "    def forward(self, x):\n",
    "        split = torch.split(x, self.half, 1)\n",
    "        out1 = self.IN(split[0].contiguous())\n",
    "        out2 = self.BN(split[1].contiguous())\n",
    "        out = torch.cat((out1, out2), 1)\n",
    "        return out\n",
    "\n",
    "\n",
    "class GeM(nn.Module):\n",
    "    def __init__(self, p=3, eps=1e-6):\n",
    "        super(GeM,self).__init__()\n",
    "        self.p = nn.Parameter(torch.ones(1)*p)\n",
    "        self.eps = eps\n",
    "\n",
    "    def forward(self, x):\n",
    "        return self.gem(x, p=self.p, eps=self.eps)\n",
    "        \n",
    "    def gem(self, x, p=3, eps=1e-6):\n",
    "        return F.avg_pool2d(x.clamp(min=eps).pow(p), (x.size(-2), x.size(-1))).pow(1./p)\n",
    "        \n",
    "    def __repr__(self):\n",
    "        return self.__class__.__name__ + '(' + 'p=' + '{:.4f}'.format(self.p.data.tolist()[0]) + ', ' + 'eps=' + str(self.eps) + ')'\n",
    "\n",
    "\n",
    "class SEDense18_IBN(nn.Module):\n",
    "    def __init__(self, num_class=751, needs_norm=True, is_reid=False):\n",
    "        super().__init__()\n",
    "        model = models.resnet18(pretrained=True)\n",
    "        self.conv0 = model.conv1\n",
    "        self.bn0 = model.bn1\n",
    "        self.relu0 = model.relu\n",
    "        self.pooling0 = model.maxpool\n",
    "\n",
    "        model.layer1[0].bn1 = IBN(64)\n",
    "        self.basicBlock11 = model.layer1[0]\n",
    "        self.seblock1 = SEBlock(64)\n",
    "\n",
    "        self.basicBlock12 = model.layer1[1]\n",
    "        self.seblock2 = SEBlock(64)\n",
    "\n",
    "        model.layer2[0].bn1 = IBN(128)\n",
    "        self.basicBlock21 = model.layer2[0]\n",
    "        self.seblock3 = SEBlock(128)\n",
    "        self.ancillaryconv3 = nn.Conv2d(64, 128, 1, 2, 0)\n",
    "        self.optionalNorm2dconv3 = nn.BatchNorm2d(128)\n",
    "\n",
    "        self.basicBlock22 = model.layer2[1]\n",
    "        self.seblock4 = SEBlock(128)\n",
    "        \n",
    "        model.layer3[0].bn1 = IBN(256)\n",
    "        self.basicBlock31 = model.layer3[0]\n",
    "        self.seblock5 = SEBlock(256)\n",
    "        self.ancillaryconv5 = nn.Conv2d(128, 256, 1, 2, 0)\n",
    "        self.optionalNorm2dconv5 = nn.BatchNorm2d(256)\n",
    "\n",
    "        self.basicBlock32 = model.layer3[1]\n",
    "        self.seblock6 = SEBlock(256)\n",
    "\n",
    "        self.basicBlock41 = model.layer4[0]\n",
    "        # last stride = 1\n",
    "        self.basicBlock41.conv1 = nn.Conv2d(256, 512, kernel_size=(3, 3), stride=(1, 1), padding=(1, 1), bias=False, device=\"cuda:0\")\n",
    "        self.basicBlock41.downsample[0] = nn.Conv2d(256, 512, kernel_size=(1,1), stride=(1,1), bias=False, device=\"cuda:0\")\n",
    "        self.seblock7 = SEBlock(512)\n",
    "        self.ancillaryconv7 = nn.Conv2d(256, 512, 1, 1, 0)\n",
    "        self.optionalNorm2dconv7 = nn.BatchNorm2d(512)\n",
    "\n",
    "        self.basicBlock42 = model.layer4[1]\n",
    "        self.seblock8 = SEBlock(512)\n",
    "\n",
    "        self.avgpooling = model.avgpool\n",
    "        # self.avgpooling = GeM()\n",
    "\n",
    "        self.bnneck = nn.BatchNorm1d(512)\n",
    "        self.bnneck.bias.requires_grad_(False)\n",
    "\n",
    "        self.classifier = nn.Sequential(\n",
    "            nn.Linear(512, 256),\n",
    "            nn.BatchNorm1d(256),\n",
    "            nn.ReLU(inplace=True),\n",
    "            nn.Dropout(),\n",
    "            nn.Linear(256, num_class),\n",
    "        )\n",
    "        self.needs_norm = needs_norm\n",
    "        self.is_reid = is_reid\n",
    "    \n",
    "    def forward(self, x):\n",
    "        x = self.conv0(x)\n",
    "        x = self.bn0(x)\n",
    "        x = self.relu0(x)\n",
    "        x = self.pooling0(x)\n",
    "        branch1 = x\n",
    "        x = self.basicBlock11(x)\n",
    "        scale1 = self.seblock1(x)\n",
    "        x = scale1 * x + branch1\n",
    "\n",
    "        branch2 = x\n",
    "        x = self.basicBlock12(x)\n",
    "        scale2 = self.seblock2(x)\n",
    "        x = scale2 * x + branch2\n",
    "\n",
    "        branch3 = x\n",
    "        x = self.basicBlock21(x)\n",
    "        scale3 = self.seblock3(x)\n",
    "        if self.needs_norm:\n",
    "            x = scale3 * x + self.optionalNorm2dconv3(self.ancillaryconv3(branch3))\n",
    "        else:\n",
    "            x = scale3 * x + self.ancillaryconv3(branch3)\n",
    "\n",
    "        branch4 = x\n",
    "        x = self.basicBlock22(x)\n",
    "        scale4 = self.seblock4(x)\n",
    "        x = scale4 * x + branch4\n",
    "\n",
    "        branch5 = x\n",
    "        x = self.basicBlock31(x)\n",
    "        scale5 = self.seblock5(x)\n",
    "        if self.needs_norm:\n",
    "            x = scale5 * x + self.optionalNorm2dconv5(self.ancillaryconv5(branch5))\n",
    "        else:\n",
    "            x = scale5 * x + self.ancillaryconv5(branch5)\n",
    "\n",
    "        branch6 = x\n",
    "        x = self.basicBlock32(x)\n",
    "        scale6 = self.seblock6(x)\n",
    "        x = scale6 * x + branch6\n",
    "\n",
    "        branch7 = x\n",
    "        x = self.basicBlock41(x)\n",
    "        scale7 = self.seblock7(x)\n",
    "        if self.needs_norm:\n",
    "            x = scale7 * x + self.optionalNorm2dconv7(self.ancillaryconv7(branch7))\n",
    "        else:\n",
    "            x = scale7 * x + self.ancillaryconv7(branch7)\n",
    "\n",
    "        branch8 = x\n",
    "        x = self.basicBlock42(x)\n",
    "        scale8 = self.seblock8(x)\n",
    "        x = scale8 * x + branch8\n",
    "\n",
    "        x = self.avgpooling(x)\n",
    "        feature = x.view(x.size(0), -1)\n",
    "        if self.is_reid:\n",
    "            return feature\n",
    "        x = self.bnneck(feature)\n",
    "        x = self.classifier(x)\n",
    "\n",
    "        return x, feature"
   ]
  },
  {
   "cell_type": "code",
   "execution_count": 4,
   "metadata": {
    "pycharm": {
     "name": "#%%\n"
    }
   },
   "outputs": [],
   "source": [
    "def relabel(label_set):\n",
    "    label = 0\n",
    "    latest_label = label_set[0]\n",
    "    new_label_set = list()\n",
    "    for cur_label in label_set:\n",
    "        if cur_label != latest_label:\n",
    "            label += 1\n",
    "            latest_label = cur_label\n",
    "        new_label_set.append(label)\n",
    "    return new_label_set\n",
    "\n",
    "\n",
    "image_path = sorted(glob.glob(\"../../Market-1501/bounding_box_train/*.jpg\"))\n",
    "label_path = list(map(lambda x: int(x.split(\"/\")[-1][:4]), image_path))\n",
    "label_path = relabel(label_path)\n",
    "assert max(label_path) == 750"
   ]
  },
  {
   "cell_type": "code",
   "execution_count": 5,
   "metadata": {
    "pycharm": {
     "name": "#%%\n"
    }
   },
   "outputs": [
    {
     "data": {
      "image/png": "[encoded data removed]",
      "text/plain": [
       "<Figure size 504x504 with 1 Axes>"
      ]
     },
     "metadata": {
      "needs_background": "light"
     },
     "output_type": "display_data"
    },
    {
     "name": "stdout",
     "output_type": "stream",
     "text": [
      "11265\n"
     ]
    }
   ],
   "source": [
    "def check_distribution(label_path):\n",
    "    unique, counts = np.unique(np.asarray(label_path), return_counts=True)\n",
    "    plt.figure(figsize=(7,7))\n",
    "    plt.bar(unique, counts, width=1)\n",
    "    plt.grid()\n",
    "    plt.show()\n",
    "    return np.median(counts)\n",
    "\n",
    "# I am not sure how to set the baseline. Let's try 15 as it is the median\n",
    "def augmentation(images, transform, num):\n",
    "    augments = list()\n",
    "    for _ in range(num):\n",
    "        reference = np.random.choice(len(images))\n",
    "        augments.append(transform(images[reference]))\n",
    "    images.extend(augments)\n",
    "    return images\n",
    "\n",
    "def reorganize(image_path, label_path, base=15):\n",
    "    d = defaultdict(list)\n",
    "    for i, image in enumerate(image_path):\n",
    "        image_ = Image.open(image).convert(\"RGB\")\n",
    "        image_ = transforms.ToTensor()(image_)\n",
    "        d[label_path[i]].append(image_)\n",
    "    for key in d:\n",
    "        if len(d[key]) >= base:\n",
    "            # sample\n",
    "            indices = np.random.choice(len(d[key]), size=base, replace=False)\n",
    "            original = d[key][:]\n",
    "            d[key].clear()\n",
    "            for indice in indices:\n",
    "                d[key].append(original[indice])\n",
    "        else:\n",
    "            # augment\n",
    "            transform = transforms.Compose([\n",
    "                transforms.RandomErasing(),\n",
    "                transforms.RandomHorizontalFlip(),                           \n",
    "            ])\n",
    "            d[key] = augmentation(d[key], transform, base-len(d[key]))\n",
    "    balanced_label_path = []\n",
    "    for i in range(len(d)):\n",
    "        balanced_label_path.extend([i for _ in range(base)])\n",
    "    balanced_image_path = []\n",
    "    for label in range(len(d)):\n",
    "        balanced_image_path.extend(d[label])\n",
    "    return balanced_image_path, balanced_label_path # tensors, list[int]\n",
    "\n",
    "base = check_distribution(label_path)\n",
    "balanced_image_path, balanced_label_path = reorganize(image_path, label_path, int(base))\n",
    "print(len(balanced_image_path)) # much larger than the previous dataset"
   ]
  },
  {
   "cell_type": "code",
   "execution_count": 6,
   "metadata": {
    "pycharm": {
     "name": "#%%\n"
    }
   },
   "outputs": [],
   "source": [
    "class BalancedDataset(Dataset):\n",
    "    def __init__(self, image_path, label_path, transform):\n",
    "        super().__init__()\n",
    "        self.image_path = image_path\n",
    "        self.label_path = label_path\n",
    "        self.transform = transform\n",
    "    \n",
    "    def __len__(self):\n",
    "        return len(self.image_path)\n",
    "    \n",
    "    def __getitem__(self, idx):\n",
    "        image = self.image_path[idx]\n",
    "        label = self.label_path[idx]\n",
    "        if self.transform:\n",
    "            image = self.transform(image)\n",
    "        return image, torch.tensor(label).int()"
   ]
  },
  {
   "cell_type": "code",
   "execution_count": 7,
   "metadata": {
    "pycharm": {
     "name": "#%%\n"
    }
   },
   "outputs": [],
   "source": [
    "class LabelSmoothing(nn.Module):\n",
    "    \"\"\" NLL loss with label smoothing. \"\"\"\n",
    "\n",
    "    def __init__(self, smoothing=0.1):\n",
    "        \"\"\" Constructor for the LabelSmoothing module.\n",
    "        :param smoothing: label smoothing factor \"\"\"\n",
    "        super(LabelSmoothing, self).__init__()\n",
    "        self.confidence = 1.0 - smoothing\n",
    "        self.smoothing = smoothing\n",
    "\n",
    "    def forward(self, x, target):\n",
    "        logprobs = torch.nn.functional.log_softmax(x, dim=-1)\n",
    "        target = target.long()\n",
    "        nll_loss = -logprobs.gather(dim=-1, index=target.unsqueeze(1))\n",
    "        nll_loss = nll_loss.squeeze(1)\n",
    "        smooth_loss = -logprobs.mean(dim=-1)\n",
    "        loss = self.confidence * nll_loss + self.smoothing * smooth_loss\n",
    "        return loss.mean()"
   ]
  },
  {
   "cell_type": "code",
   "execution_count": 8,
   "metadata": {
    "pycharm": {
     "name": "#%%\n"
    }
   },
   "outputs": [],
   "source": [
    "class CenterLoss(nn.Module):\n",
    "    \"\"\"Center loss.\n",
    "    Reference:\n",
    "    Wen et al. A Discriminative Feature Learning Approach for Deep Face Recognition. ECCV 2016.\n",
    "    Args:\n",
    "        num_classes (int): number of classes.\n",
    "        feat_dim (int): feature dimension.\n",
    "    \"\"\"\n",
    " \n",
    "    def __init__(self, num_classes=751, feat_dim=2048, use_gpu=True):\n",
    "        super(CenterLoss, self).__init__()\n",
    "        self.num_classes = num_classes\n",
    "        self.feat_dim = feat_dim\n",
    "        self.use_gpu = use_gpu\n",
    " \n",
    "        if self.use_gpu:\n",
    "            self.centers = nn.Parameter(torch.randn(self.num_classes, self.feat_dim).cuda())\n",
    "        else:\n",
    "            self.centers = nn.Parameter(torch.randn(self.num_classes, self.feat_dim))\n",
    " \n",
    "    def forward(self, x, labels):\n",
    "        \"\"\"\n",
    "        Args:\n",
    "            x: feature matrix with shape (batch_size, feat_dim).\n",
    "            labels: ground truth labels with shape (num_classes).\n",
    "        \"\"\"\n",
    "        assert x.size(0) == labels.size(0), \"features.size(0) is not equal to labels.size(0)\"\n",
    " \n",
    "        batch_size = x.size(0)\n",
    "        distmat = torch.pow(x, 2).sum(dim=1, keepdim=True).expand(batch_size, self.num_classes) + \\\n",
    "                  torch.pow(self.centers, 2).sum(dim=1, keepdim=True).expand(self.num_classes, batch_size).t()\n",
    "        distmat.addmm_(1, -2, x, self.centers.t())\n",
    " \n",
    "        classes = torch.arange(self.num_classes).long()\n",
    "        if self.use_gpu: classes = classes.cuda()\n",
    "        labels = labels.unsqueeze(1).expand(batch_size, self.num_classes)\n",
    "        mask = labels.eq(classes.expand(batch_size, self.num_classes))\n",
    " \n",
    "        dist = []\n",
    "        for i in range(batch_size):\n",
    "            value = distmat[i][mask[i]]\n",
    "            value = value.clamp(min=1e-12, max=1e+12)  # for numerical stability\n",
    "            dist.append(value)\n",
    "        dist = torch.cat(dist)\n",
    "        loss = dist.mean()\n",
    "        return loss\n",
    "\n",
    "\n",
    "class TripletLoss(nn.Module):\n",
    "    \"\"\"Triplet loss with hard positive/negative mining.\n",
    "    \n",
    "    Reference:\n",
    "        Hermans et al. In Defense of the Triplet Loss for Person Re-Identification. arXiv:1703.07737.\n",
    "    \n",
    "    Imported from `<https://github.com/Cysu/open-reid/blob/master/reid/loss/triplet.py>`_.\n",
    "    \n",
    "    Args:\n",
    "        margin (float, optional): margin for triplet. Default is 0.3.\n",
    "    \"\"\"\n",
    "    \n",
    "    def __init__(self, margin=0.3):\n",
    "        super(TripletLoss, self).__init__()\n",
    "        self.margin = margin\n",
    "        self.ranking_loss = nn.MarginRankingLoss(margin=margin)\n",
    " \n",
    "    def forward(self, inputs, targets):\n",
    "        \"\"\"\n",
    "        Args:\n",
    "            inputs (torch.Tensor): feature matrix with shape (batch_size, feat_dim).\n",
    "            targets (torch.LongTensor): ground truth labels with shape (num_classes).\n",
    "        \"\"\"\n",
    "        n = inputs.size(0)\n",
    "        \n",
    "        # Compute pairwise distance, replace by the official when merged\n",
    "        dist = torch.pow(inputs, 2).sum(dim=1, keepdim=True).expand(n, n)\n",
    "        dist = dist + dist.t()\n",
    "        dist.addmm_(1, -2, inputs, inputs.t())\n",
    "        dist = dist.clamp(min=1e-12).sqrt()  # for numerical stability\n",
    "        \n",
    "        # For each anchor, find the hardest positive and negative\n",
    "        mask = targets.expand(n, n).eq(targets.expand(n, n).t())\n",
    "        dist_ap, dist_an = [], []\n",
    "        for i in range(n):\n",
    "            dist_ap.append(dist[i][mask[i]].max().unsqueeze(0))\n",
    "            dist_an.append(dist[i][mask[i] == 0].min().unsqueeze(0))\n",
    "        dist_ap = torch.cat(dist_ap)\n",
    "        dist_an = torch.cat(dist_an)\n",
    "        \n",
    "        # Compute ranking hinge loss\n",
    "        y = torch.ones_like(dist_an)\n",
    "        return self.ranking_loss(dist_an, dist_ap, y)"
   ]
  },
  {
   "cell_type": "code",
   "execution_count": 9,
   "metadata": {
    "pycharm": {
     "name": "#%%\n"
    }
   },
   "outputs": [],
   "source": [
    "class HybridLoss3(nn.Module):\n",
    "    def __init__(self, num_classes, feat_dim=512, margin=0.3, smoothing=0.1):\n",
    "        super().__init__()\n",
    "        self.center = CenterLoss(num_classes=num_classes, feat_dim=feat_dim)\n",
    "        self.triplet = TripletLoss(margin)\n",
    "        self.smooth = LabelSmoothing(smoothing)\n",
    "\n",
    "    def forward(self, embeddings, outputs, targets):\n",
    "        \"\"\"\n",
    "        features: feature vectors\n",
    "        targets: ground truth labels\n",
    "        \"\"\"\n",
    "        smooth_loss = self.smooth(outputs, targets)\n",
    "        triplet_loss = self.triplet(embeddings, targets)\n",
    "        center_loss = self.center(embeddings, targets)\n",
    "        return smooth_loss + triplet_loss + 0.0005 * center_loss"
   ]
  },
  {
   "cell_type": "code",
   "execution_count": 10,
   "metadata": {
    "pycharm": {
     "name": "#%%\n"
    }
   },
   "outputs": [],
   "source": [
    "from bisect import bisect_right\n",
    "\n",
    "\n",
    "class WarmupMultiStepLR(torch.optim.lr_scheduler._LRScheduler):\n",
    "    def __init__(\n",
    "        self,\n",
    "        optimizer,\n",
    "        milestones,\n",
    "        gamma=0.1,\n",
    "        warmup_factor=1.0 / 3,\n",
    "        warmup_iters=300,\n",
    "        warmup_method=\"linear\",\n",
    "        last_epoch=-1,\n",
    "    ):\n",
    "        if not list(milestones) == sorted(milestones):\n",
    "            raise ValueError(\n",
    "                \"Milestones should be a list of\" \" increasing integers. Got {}\",\n",
    "                milestones,\n",
    "            )\n",
    "\n",
    "        if warmup_method not in (\"constant\", \"linear\"):\n",
    "            raise ValueError(\n",
    "                \"Only 'constant' or 'linear' warmup_method accepted\"\n",
    "                \"got {}\".format(warmup_method)\n",
    "            )\n",
    "        self.milestones = milestones\n",
    "        self.gamma = gamma\n",
    "        self.warmup_factor = warmup_factor\n",
    "        self.warmup_iters = warmup_iters\n",
    "        self.warmup_method = warmup_method\n",
    "        super(WarmupMultiStepLR, self).__init__(optimizer, last_epoch)\n",
    "\n",
    "    def get_lr(self):\n",
    "        warmup_factor = 1\n",
    "        if self.last_epoch < self.warmup_iters:\n",
    "            if self.warmup_method == \"constant\":\n",
    "                warmup_factor = self.warmup_factor\n",
    "            elif self.warmup_method == \"linear\":\n",
    "                alpha = self.last_epoch / self.warmup_iters\n",
    "                warmup_factor = self.warmup_factor * (1 - alpha) + alpha\n",
    "        return [\n",
    "            base_lr\n",
    "            * warmup_factor\n",
    "            * self.gamma ** bisect_right(self.milestones, self.last_epoch)\n",
    "            for base_lr in self.base_lrs\n",
    "        ]"
   ]
  },
  {
   "cell_type": "code",
   "execution_count": 11,
   "metadata": {
    "pycharm": {
     "name": "#%%\n"
    }
   },
   "outputs": [],
   "source": [
    "def train_strategy2(num_classes):\n",
    "    model = SEDense18_IBN(num_class=num_classes, is_reid=False).cuda()\n",
    "    loss_function = HybridLoss3(num_classes)\n",
    "    optimizer = torch.optim.Adam(model.parameters(), lr=0.001, weight_decay=5e-4)\n",
    "    lr_scheduler = torch.optim.lr_scheduler.CosineAnnealingWarmRestarts(optimizer, 150)\n",
    "    return model, loss_function, optimizer, lr_scheduler"
   ]
  },
  {
   "cell_type": "code",
   "execution_count": 12,
   "metadata": {
    "pycharm": {
     "name": "#%%\n"
    }
   },
   "outputs": [],
   "source": [
    "def train3(image_path, label_path, num_class, epochs=10, batch_size=64):\n",
    "    transform = transforms.Compose([\n",
    "        transforms.Resize((128, 64)),\n",
    "        transforms.Pad(10),\n",
    "        transforms.RandomCrop((128, 64)), \n",
    "        transforms.Normalize([0.485, 0.456, 0.406], [0.229, 0.224, 0.225]),\n",
    "    ])\n",
    "    reid_dataset = BalancedDataset(image_path, label_path, transform)\n",
    "    losses_func = list()\n",
    "    model, loss_func, optim_func, lr_func = train_strategy2(num_class)\n",
    "    model.train()\n",
    "    for epoch in range(epochs):\n",
    "        dataloader = DataLoaderX(reid_dataset, batch_size, True, num_workers=4, pin_memory=True, drop_last=True)\n",
    "        iterator = tqdm(dataloader)\n",
    "        for sample in iterator:\n",
    "            optim_func.zero_grad()\n",
    "            image, label = sample\n",
    "            image, label = image.cuda(), label.cuda()\n",
    "            \n",
    "            prediction, feature = model(image)\n",
    "\n",
    "            loss = loss_func(feature, prediction, label)\n",
    "\n",
    "            losses_func.append(loss.item())\n",
    "            loss.backward()\n",
    "            nn.utils.clip_grad_norm_(model.parameters(), 10.)\n",
    "            optim_func.step()\n",
    "            lr_func.step()\n",
    "            status = \"epoch: {}, lr: {:.6f}, loss: {:.4f}\".format(epoch, lr_func.get_last_lr()[0], loss.item())\n",
    "            iterator.set_description(status)\n",
    "    model = model.eval()\n",
    "    return model, losses_func\n",
    "\n",
    "\n",
    "def plot_losses3(losses_func):\n",
    "    plt.figure()\n",
    "    plt.plot(losses_func, linewidth=2, color=\"r\", label=\"training loss\")\n",
    "    plt.xlabel(\"iterations\")\n",
    "    plt.ylabel(\"loss value\")\n",
    "    plt.title(\"loss functions\")\n",
    "    plt.legend()\n",
    "    plt.grid()\n",
    "    plt.show()"
   ]
  },
  {
   "cell_type": "code",
   "execution_count": 13,
   "metadata": {
    "pycharm": {
     "name": "#%%\n"
    }
   },
   "outputs": [
    {
     "name": "stderr",
     "output_type": "stream",
     "text": [
      "  0%|          | 0/176 [00:00<?, ?it/s]/opt/conda/lib/python3.7/site-packages/ipykernel_launcher.py:77: UserWarning: This overload of addmm_ is deprecated:\n",
      "\taddmm_(Number beta, Number alpha, Tensor mat1, Tensor mat2)\n",
      "Consider using one of the following signatures instead:\n",
      "\taddmm_(Tensor mat1, Tensor mat2, *, Number beta, Number alpha) (Triggered internally at  ../torch/csrc/utils/python_arg_parser.cpp:1050.)\n",
      "epoch: 0, lr: 0.000928, loss: 6.3801: 100%|██████████| 176/176 [00:23<00:00,  7.65it/s]\n",
      "epoch: 1, lr: 0.000732, loss: 5.7394: 100%|██████████| 176/176 [00:21<00:00,  8.33it/s]\n",
      "epoch: 2, lr: 0.000469, loss: 5.2701: 100%|██████████| 176/176 [00:21<00:00,  8.09it/s]\n",
      "epoch: 3, lr: 0.000215, loss: 4.6954: 100%|██████████| 176/176 [00:21<00:00,  8.16it/s]\n",
      "epoch: 4, lr: 0.000043, loss: 4.2559: 100%|██████████| 176/176 [00:21<00:00,  8.29it/s]\n",
      "epoch: 5, lr: 0.000996, loss: 3.8812: 100%|██████████| 176/176 [00:22<00:00,  7.83it/s]\n",
      "epoch: 6, lr: 0.000892, loss: 3.7624: 100%|██████████| 176/176 [00:21<00:00,  8.37it/s]\n",
      "epoch: 7, lr: 0.000674, loss: 3.2019: 100%|██████████| 176/176 [00:21<00:00,  8.34it/s]\n",
      "epoch: 8, lr: 0.000406, loss: 3.2560: 100%|██████████| 176/176 [00:22<00:00,  7.93it/s]\n",
      "epoch: 9, lr: 0.000165, loss: 2.9350: 100%|██████████| 176/176 [00:21<00:00,  8.37it/s]\n",
      "epoch: 10, lr: 0.000021, loss: 2.7299: 100%|██████████| 176/176 [00:21<00:00,  8.37it/s]\n",
      "epoch: 11, lr: 0.000984, loss: 2.8005: 100%|██████████| 176/176 [00:22<00:00,  7.84it/s]\n",
      "epoch: 12, lr: 0.000850, loss: 2.6752: 100%|██████████| 176/176 [00:20<00:00,  8.41it/s]\n",
      "epoch: 13, lr: 0.000614, loss: 2.6009: 100%|██████████| 176/176 [00:21<00:00,  8.35it/s]\n",
      "epoch: 14, lr: 0.000345, loss: 2.4793: 100%|██████████| 176/176 [00:22<00:00,  7.84it/s]\n",
      "epoch: 15, lr: 0.000122, loss: 2.1632: 100%|██████████| 176/176 [00:21<00:00,  8.37it/s]\n",
      "epoch: 16, lr: 0.000007, loss: 2.3139: 100%|██████████| 176/176 [00:22<00:00,  7.90it/s]\n",
      "epoch: 17, lr: 0.000965, loss: 2.4853: 100%|██████████| 176/176 [00:21<00:00,  8.37it/s]\n",
      "epoch: 18, lr: 0.000802, loss: 2.4133: 100%|██████████| 176/176 [00:21<00:00,  8.36it/s]\n",
      "epoch: 19, lr: 0.000552, loss: 2.2732: 100%|██████████| 176/176 [00:22<00:00,  7.89it/s]\n",
      "epoch: 20, lr: 0.000287, loss: 2.0721: 100%|██████████| 176/176 [00:21<00:00,  8.36it/s]\n",
      "epoch: 21, lr: 0.000084, loss: 2.2091: 100%|██████████| 176/176 [00:20<00:00,  8.48it/s]\n",
      "epoch: 22, lr: 0.000000, loss: 1.9767: 100%|██████████| 176/176 [00:22<00:00,  7.89it/s]\n",
      "epoch: 23, lr: 0.000938, loss: 2.1892: 100%|██████████| 176/176 [00:20<00:00,  8.39it/s]\n",
      "epoch: 24, lr: 0.000750, loss: 2.1874: 100%|██████████| 176/176 [00:20<00:00,  8.41it/s]\n",
      "epoch: 25, lr: 0.000490, loss: 2.0152: 100%|██████████| 176/176 [00:22<00:00,  7.93it/s]\n",
      "epoch: 26, lr: 0.000232, loss: 1.9602: 100%|██████████| 176/176 [00:20<00:00,  8.41it/s]\n",
      "epoch: 27, lr: 0.000052, loss: 1.8682: 100%|██████████| 176/176 [00:20<00:00,  8.44it/s]\n",
      "epoch: 28, lr: 0.000998, loss: 1.9058: 100%|██████████| 176/176 [00:22<00:00,  7.92it/s]\n",
      "epoch: 29, lr: 0.000905, loss: 2.0071: 100%|██████████| 176/176 [00:20<00:00,  8.38it/s]\n",
      "epoch: 30, lr: 0.000694, loss: 1.9243: 100%|██████████| 176/176 [00:22<00:00,  7.88it/s]\n",
      "epoch: 31, lr: 0.000427, loss: 1.9606: 100%|██████████| 176/176 [00:20<00:00,  8.44it/s]\n",
      "epoch: 32, lr: 0.000181, loss: 1.8078: 100%|██████████| 176/176 [00:20<00:00,  8.42it/s]\n",
      "epoch: 33, lr: 0.000028, loss: 1.7807: 100%|██████████| 176/176 [00:22<00:00,  7.93it/s]\n",
      "epoch: 34, lr: 0.000989, loss: 1.8500: 100%|██████████| 176/176 [00:21<00:00,  8.36it/s]\n",
      "epoch: 35, lr: 0.000864, loss: 2.0574: 100%|██████████| 176/176 [00:20<00:00,  8.49it/s]\n",
      "epoch: 36, lr: 0.000634, loss: 1.8673: 100%|██████████| 176/176 [00:22<00:00,  7.96it/s]\n",
      "epoch: 37, lr: 0.000366, loss: 1.9476: 100%|██████████| 176/176 [00:21<00:00,  8.37it/s]\n",
      "epoch: 38, lr: 0.000136, loss: 1.7575: 100%|██████████| 176/176 [00:20<00:00,  8.42it/s]\n",
      "epoch: 39, lr: 0.000011, loss: 1.8209: 100%|██████████| 176/176 [00:22<00:00,  7.93it/s]\n"
     ]
    },
    {
     "data": {
      "image/png": "[encoded data removed]",
      "text/plain": [
       "<Figure size 432x288 with 1 Axes>"
      ]
     },
     "metadata": {
      "needs_background": "light"
     },
     "output_type": "display_data"
    }
   ],
   "source": [
    "model, losses = train3(balanced_image_path, balanced_label_path, max(label_path)+1, 40)\n",
    "plot_losses3(losses)"
   ]
  },
  {
   "cell_type": "code",
   "execution_count": 14,
   "metadata": {
    "pycharm": {
     "name": "#%%\n"
    }
   },
   "outputs": [],
   "source": [
    "overall_model = SEDense18_IBN().cuda()\n",
    "overall_model.load_state_dict(model.state_dict())\n",
    "torch.save(overall_model.state_dict(), \"SE18_IBN_balanced_checkpoint.pt\")"
   ]
  },
  {
   "cell_type": "code",
   "execution_count": null,
   "metadata": {
    "pycharm": {
     "name": "#%%\n"
    }
   },
   "outputs": [],
   "source": []
  }
 ],
 "metadata": {
  "interpreter": {
   "hash": "916dbcbb3f70747c44a77c7bcd40155683ae19c65e1c03b4aa3499c5328201f1"
  },
  "kernelspec": {
   "display_name": "Python 3.7.3 64-bit",
   "language": "python",
   "name": "python3"
  },
  "language_info": {
   "codemirror_mode": {
    "name": "ipython",
    "version": 3
   },
   "file_extension": ".py",
   "mimetype": "text/x-python",
   "name": "python",
   "nbconvert_exporter": "python",
   "pygments_lexer": "ipython3",
   "version": "3.7.12"
  },
  "orig_nbformat": 4
 },
 "nbformat": 4,
 "nbformat_minor": 2
}